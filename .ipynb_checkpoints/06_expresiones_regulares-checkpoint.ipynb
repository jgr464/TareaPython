{
 "cells": [
  {
   "cell_type": "markdown",
   "id": "070f0c70-86a7-4907-b699-7876303d4a05",
   "metadata": {},
   "source": [
    "# Expresiones regulares\n",
    "\n",
    "Las expresiones regulares sirven para buscar patrones no triviales en textos. Las expresiones regulares están en el paquete [`re`](https://docs.python.org/3/howto/regex.html). "
   ]
  },
  {
   "cell_type": "code",
   "execution_count": null,
   "id": "63209c85-f23f-4fd7-b58e-68b0ccba20eb",
   "metadata": {},
   "outputs": [],
   "source": [
    "import re"
   ]
  },
  {
   "cell_type": "markdown",
   "id": "d10d72d2-d510-43d8-9c0c-397f1f9f693e",
   "metadata": {},
   "source": [
    "Las expresiones regulares son complejas de usar, al menos al principio, pero cuando se entienden y dominan son muy útiles. Vamos a intentar dominarlas. Para ello vamos a verlas en acción con un ejemplo. Tememos un fichero con accesos a un servidor web `access.log`. Lo vamos a leer y vamos a ver una muestra del 10%."
   ]
  },
  {
   "cell_type": "code",
   "execution_count": null,
   "id": "0f0f7c9b-af2d-4d6d-a564-98a6b227f652",
   "metadata": {},
   "outputs": [],
   "source": [
    "import random\n",
    "\n",
    "with open('access.log') as f:\n",
    "    access = f.readlines()\n",
    "[line for line in access if random.random()>0.9] "
   ]
  },
  {
   "cell_type": "markdown",
   "id": "ec8ad3d3-288b-40b5-b4f1-8e04a6906d09",
   "metadata": {},
   "source": [
    "Vamos a fijarnos en la fecha. Es una cadena de caracteres que va entre corchetes. Vamos a usar la primera expresión que se suele usar: `'.*'`. `'.'` es una expresión regular que *casa* con cualquier carácter y `'*'` es una expresión regular que casa con 0, 1 o más repeticiones de la expresión regular precedente. Por tanto, la expresión regular que viene a continuación es una expresión regular que casa con un corchete `'['`, sigue con varias letras y acaba con `']'`. Comenzamos con la primera complicación, los corchetes tienen un significado especial, por lo que para casar la letra corchete debemos poner un '\\' delante del corchete. \n",
    "\n",
    "Las expresiones regulares es un lenguaje que es necesario traducir a una estructura intermedia para poder usarlas `re.compile`.\n",
    "\n",
    "**¡Ojo!** Fijaos que hay una `r` delatente de la cadena de caracteres para indicar que es una cadena para una expersión regulares. En particular se cambia el comportamineto de `\\`. Si quieres saber el motivo último [consulta la documentación](https://docs.python.org/3/howto/regex.html#the-backslash-plague)."
   ]
  },
  {
   "cell_type": "code",
   "execution_count": null,
   "id": "56c4f56e-eaf4-4a26-b0fc-338a70b6aa09",
   "metadata": {},
   "outputs": [],
   "source": [
    "datere = re.compile(r'\\[.*\\]')"
   ]
  },
  {
   "cell_type": "markdown",
   "id": "5a3915fd-ddc5-44cc-84cf-0f0f41f8a10c",
   "metadata": {},
   "source": [
    "Hay 2 tipos de consulta que se puede hacer con una expresión regular en una cadena de caracteres.\n",
    "* `match`, si el comienzo de la cadena casa con la expresión regular.\n",
    "* `search`, si existe una subcadena que casa con la expresión regular.\n",
    "En nuestro caso lo hemos hecho para la segunda opción, las líneas no siguen el patrón que hemos descrito. Ambas devuelven el mismo tipo de objeto `match` que nos permite analizar el texto que ha casado.\n",
    "* `findall` y `finditer` que busca todos las partes donde casa una expresión regular. Las anteriores solo devuelven la primera aparición"
   ]
  },
  {
   "cell_type": "code",
   "execution_count": null,
   "id": "9f8eac19-a6dd-43b4-84dd-dba9befc8fad",
   "metadata": {},
   "outputs": [],
   "source": [
    "m1 = datere.match(access[0])\n",
    "m2 = datere.search(access[0])\n",
    "m1, m2"
   ]
  },
  {
   "cell_type": "markdown",
   "id": "53c5e2e8-7971-4955-bfeb-675201ce0e34",
   "metadata": {},
   "source": [
    "`m1` es el objeto `None` que indica que la expresión regular no ha casado, como habíamos visto antes. Sin embargo `m2` que se corresponde con el `search` sí que ha casado. Podemos ver el texto que ha casado de la siguiente forma."
   ]
  },
  {
   "cell_type": "code",
   "execution_count": null,
   "id": "27295a7c-6ea6-4ae8-8381-8cf0cabfdb1d",
   "metadata": {},
   "outputs": [],
   "source": [
    "if m1:\n",
    "    print(m1.group(), m1.span())\n",
    "else:\n",
    "    print('m1 ha fallado')"
   ]
  },
  {
   "cell_type": "code",
   "execution_count": null,
   "id": "18b96ce4-5601-430b-bd93-d7ddd596a214",
   "metadata": {},
   "outputs": [],
   "source": [
    "if m2:\n",
    "    print(m2.group(), m2.span())\n",
    "else:\n",
    "    print('m2 ha fallado')"
   ]
  },
  {
   "cell_type": "markdown",
   "id": "7afcfc3b-5f93-4649-8fbc-6d1c7548d9cc",
   "metadata": {},
   "source": [
    "Tendríamos que analizar ahora `m2.group()` para extraer la información que queremos. Pero podemos hacerlo directamente si mejoramos nuestra expresión regular. Vamos por partes. En la siguiente expresión regular y varios componentes nuevos\n",
    "* el `+`, es como el `*` pero necesita que haya almenos 1 elemento. El `*` permitía 0 apariciones\n",
    "* `\\d` que casa con cualquier dígito del 0 al 9.\n",
    "* Los paréntesis, que indica agrupamientos. Al texto agrupado se puede acceder como veremos a continuación."
   ]
  },
  {
   "cell_type": "code",
   "execution_count": null,
   "id": "6838030e-5b29-49b0-a07a-7bd932b9d19a",
   "metadata": {},
   "outputs": [],
   "source": [
    "datere = re.compile(r'\\[(\\d+).*\\]')\n",
    "m = datere.search(access[0])\n",
    "access[0], m.group(), m.group(0), m.group(1)"
   ]
  },
  {
   "cell_type": "markdown",
   "id": "22194bba-4037-4b55-82e5-f94294b8ec77",
   "metadata": {},
   "source": [
    "Como vemos `m.group(0)` casa con todo el texto encontrado (el 0 es valor por defecto del parámetro), el `m.group(1)` casa con el primer paréntesis encontrado. Nuevos elementos\n",
    " * `\\w` casa con cualquier letra o dígito\n",
    " * `\\s` casa con cualquier carácter espaciador: ` \\t\\n\\r\\f\\v`.\n",
    " * Como el `+` tiene un significado especial hay que poner un `\\+` para casar el carácter espaciador. "
   ]
  },
  {
   "cell_type": "code",
   "execution_count": null,
   "id": "ffba2298-e2a1-41b5-aa18-e505f35bb241",
   "metadata": {},
   "outputs": [],
   "source": [
    "datere = re.compile(r'\\[(\\d+)/(\\w+)/(\\d+):(\\d+):(\\d+):(\\d+)\\s*\\+(\\d+)\\]')\n",
    "m = datere.search(access[0])\n",
    "m.groups()"
   ]
  },
  {
   "cell_type": "markdown",
   "id": "76da33ab-f138-46cf-a78f-3ce1f214a609",
   "metadata": {},
   "source": [
    "Todo este esfuerzo ha estado bien para ir entendiendo los componentes de las expresiones regulares. Pero para analizar las fechas es mejor usar la función [`strptime` de la clase `datetime`](https://docs.python.org/3/library/datetime.html#strftime-and-strptime-behavior)"
   ]
  },
  {
   "cell_type": "code",
   "execution_count": null,
   "id": "2992302a-cd4f-4ac2-ac59-79c8b149cd9a",
   "metadata": {},
   "outputs": [],
   "source": [
    "from datetime import datetime\n",
    "datere = re.compile(r'\\[(.+)\\]')\n",
    "m = datere.search(access[0])\n",
    "ts = datetime.strptime(m.group(1), '%d/%b/%Y:%H:%M:%S %z')\n",
    "ts"
   ]
  },
  {
   "cell_type": "markdown",
   "id": "78d7c74c-e502-4ef1-9da3-44184acd4d57",
   "metadata": {},
   "source": [
    "Por lo que podemos seguir analizando la línea. Lo que viene a continuación es el comando que le ha dado el navegador al servidor. Suele ser un GET o un POST seguido de la página a la que quiere acceder y el protocolo. Todo ello entre comillas. \n"
   ]
  },
  {
   "cell_type": "code",
   "execution_count": null,
   "id": "7f6e7a1b-13e5-4980-a388-a260585e0e8e",
   "metadata": {},
   "outputs": [],
   "source": [
    "datere = re.compile(r'\\[(.+)]\\s+\"(\\w+)\\s+(.+)\\s+(.+)\"')\n",
    "m = datere.search(access[0])\n",
    "ts = datetime.strptime(m.group(1), '%d/%b/%Y:%H:%M:%S %z')\n",
    "command = m.group(2)\n",
    "page = m.group(3)\n",
    "protocol = m.group(4)\n",
    "ts, command, page, protocol"
   ]
  },
  {
   "cell_type": "markdown",
   "id": "860442ea-20b7-4a9b-8433-99ed4f73e6fa",
   "metadata": {},
   "source": [
    "Empieza a haber curvas. Hemos puesto `(.+)\\s+(.+)` para casar la página y el protocolo. ¿Qué ha pasado? Pues que hay comillas más adelante. Las expresiones regulares intentan casar todo el texto posible y se casa hasta la última comilla. Podemos ser un poquito más preciso y en lugar de casar `.+` podemos casar algo más restringido. `\\w` no se puede porque la `/` no es un carácter admisible en `\\w`. Podemos casar todo lo que sea distinto de espacio: `\\S`. "
   ]
  },
  {
   "cell_type": "code",
   "execution_count": null,
   "id": "c362032c-d7f2-4457-81f7-5f03686d07b9",
   "metadata": {},
   "outputs": [],
   "source": [
    "datere = re.compile(r'\\[(.+)]\\s+\"(\\w+)\\s+(\\S+)\\s+(\\S+)\"')\n",
    "m = datere.search(access[0])\n",
    "ts = datetime.strptime(m.group(1), '%d/%b/%Y:%H:%M:%S %z')\n",
    "command = m.group(2)\n",
    "page = m.group(3)\n",
    "protocol = m.group(4)\n",
    "ts, command, page, protocol"
   ]
  },
  {
   "cell_type": "markdown",
   "id": "ef08bcf6-2da2-4660-923f-31d7dfc8139e",
   "metadata": {},
   "source": [
    "Como vemos, las expresiones regulares son un tanto delicadas. Conviene, sobre todo al principio, ir escribiéndola poco a poco para no cometer fallos que pueden ser difíciles de encontrar. Vamos a ver más constructores, la lista completa está en la [documentación del módulo re](https://docs.python.org/3/howto/regex.html#matching-characters).\n",
    "Vamos a empezar por uno que hemos usado de forma implíta.\n",
    "* `[chars]` es una expresión regular que casa con alguno de los caracteres includo dentro. Por ejemplo `\\s` es lo mismo que `[ \\t\\n\\r\\f\\v]`"
   ]
  },
  {
   "cell_type": "code",
   "execution_count": null,
   "id": "9c8e30a1-82c4-4afc-b24b-63abfa64f445",
   "metadata": {},
   "outputs": [],
   "source": [
    "s = 'bacbaaacb'\n",
    "p = re.compile(r'([ac]+)')\n",
    "for m in p.findall(s):\n",
    "    print(m,type(m))"
   ]
  },
  {
   "cell_type": "markdown",
   "id": "cdcfb1c1-5ac2-477a-b0c6-ca279e65387a",
   "metadata": {},
   "source": [
    "Este operador admite el `-` para expresar rangos de carácter así `\\w` es equivalente a `[a-zA-Z0-9_]`\n",
    "* `[^chars]` Casa el complementario de los caracteres indicados"
   ]
  },
  {
   "cell_type": "code",
   "execution_count": null,
   "id": "6204a900-a837-4830-bed9-c8dc549bec24",
   "metadata": {},
   "outputs": [],
   "source": [
    "s = 'bcacbddbaaacbb'\n",
    "p = re.compile(r'([^ac]+)')\n",
    "for m in p.finditer(s):\n",
    "    print(m.group(1), type(m))"
   ]
  },
  {
   "cell_type": "markdown",
   "id": "32afc84c-c75f-4a7b-aa22-0102fd98ab33",
   "metadata": {},
   "source": [
    "Así `\\S` es equivalente a `[^ \\t\\n\\r\\f\\v]`, `\\D` a `[^ 0-9]` y `\\W` a `[^ a-zA-Z0-9_]`."
   ]
  },
  {
   "cell_type": "markdown",
   "id": "ee9ff4b2-710e-44a7-9f79-fad9377cc6c4",
   "metadata": {},
   "source": [
    "* `^` casa el inicio de la cadena de caracteres."
   ]
  },
  {
   "cell_type": "code",
   "execution_count": null,
   "id": "9eff8597-2c81-4ada-a533-85e6ebce8771",
   "metadata": {},
   "outputs": [],
   "source": [
    "with open('procesos.txt') as fproc:\n",
    "    procs = fproc.readlines()\n",
    "[p for p in procs if random.random()>0.95] "
   ]
  },
  {
   "cell_type": "code",
   "execution_count": null,
   "id": "09f7762b-c483-44bd-a4d7-6ef3714b7ddd",
   "metadata": {},
   "outputs": [],
   "source": [
    "usersre = re.compile(r'^\\w+')\n",
    "users = {m.group() for m in [usersre.search(p) for p in procs[1:]] }\n",
    "users"
   ]
  },
  {
   "cell_type": "markdown",
   "id": "e5e71634-e325-4252-ad59-f122b530a7e8",
   "metadata": {},
   "source": [
    "* `$` casa el final de línea"
   ]
  },
  {
   "cell_type": "code",
   "execution_count": null,
   "id": "452fcdde-3308-4dc1-b869-d9cf550ed6c2",
   "metadata": {},
   "outputs": [],
   "source": [
    "with open('files.txt') as ffiles:\n",
    "    files = ffiles.readlines()\n",
    "[f for f in files] "
   ]
  },
  {
   "cell_type": "code",
   "execution_count": null,
   "id": "4c1972b4-5661-498d-91e5-cc64d97e4caf",
   "metadata": {},
   "outputs": [],
   "source": [
    "extre = re.compile(r'\\.\\S+$')\n",
    "extre.search(files[0])"
   ]
  },
  {
   "cell_type": "code",
   "execution_count": null,
   "id": "e632b22d-4b96-4906-9aea-14bac033364e",
   "metadata": {},
   "outputs": [],
   "source": [
    "extre = usersre = re.compile(r'\\.(\\S+)$')\n",
    "exts = {m.group(1) for m in [extre.search(f) for f in files]  if m} #Algunos ficheros no tienen extensión\n",
    "exts"
   ]
  },
  {
   "cell_type": "markdown",
   "id": "45ddc21b-90ca-433c-b201-1ad1f4c6bb3e",
   "metadata": {},
   "source": [
    "## Agrupamientos\n",
    "\n",
    "Hemos visto que los agrupamientos sirven para acordarnos de partes de texto que se ha casado. Pero no siembre es así. Podemos agrupar para casar una secuencia de `ab`. Pero no necesitamos acordarnos del texto."
   ]
  },
  {
   "cell_type": "code",
   "execution_count": null,
   "id": "954a4cc6-58d7-4034-a553-c93413592df1",
   "metadata": {},
   "outputs": [],
   "source": [
    "p = re.compile(r'(?:ab)+(.)')\n",
    "for s in ['bbbaccb', 'bbbabababc', 'vvababv']:\n",
    "    m = p.search(s)\n",
    "    print(f'{s}....', end='')\n",
    "    if m:\n",
    "        print(f'Yes: {m.group(1)}')\n",
    "    else:\n",
    "        print(f'No')\n"
   ]
  },
  {
   "cell_type": "markdown",
   "id": "ae5571a6-3823-4ca8-b351-db8c1d42a1b5",
   "metadata": {},
   "source": [
    "Podemos poner nombre a los agrupamientos"
   ]
  },
  {
   "cell_type": "code",
   "execution_count": null,
   "id": "8c0e28ec-20db-4570-a4d1-d2e64c1d6d7e",
   "metadata": {},
   "outputs": [],
   "source": [
    "datere = re.compile(r'\\[(?P<date>.+)\\]\\s+\"(?P<command>\\w+)\\s+(?P<page>\\S+)\\s+(?P<protocol>\\S+)\"')\n",
    "m = datere.search(access[0])\n",
    "ts = datetime.strptime(m.group('date'), '%d/%b/%Y:%H:%M:%S %z')\n",
    "ts, m.group('command'), m.group('page'), m.group('protocol')"
   ]
  },
  {
   "cell_type": "markdown",
   "id": "327e3739-68cc-4ce8-b617-c3f762e8f381",
   "metadata": {},
   "source": [
    "Aquí hemos visto los principales constructores de las expresiones regulares. Existen otros menos usados. También hay que tener en cuenta que siempre se pueden añadir características nuevas. Por tanto, siembre es conveniente tener a mano la [documentación oficial](https://docs.python.org/3/howto/regex.html#regular-expression-howto). \n",
    "\n",
    "## Opciones re.compile\n",
    "\n",
    "Vamos a acabar este capítulo con el parámetro que llevan las expresiones regulares que puede cambiar su comportamiento. Existe una serie de constantes en el módulo `re` que son enteros. Las opciones no son exclusivas, se pueden combinar con el operador de bits `|`. Una primera opción es \n",
    "* re.VERBOSE que nos permite comentar la expresión regular "
   ]
  },
  {
   "cell_type": "code",
   "execution_count": null,
   "id": "11e0bad1-61e7-490a-b8ec-13e859aef9fe",
   "metadata": {},
   "outputs": [],
   "source": [
    "datere = re.compile(r'''\n",
    "  \\[\n",
    "  (?P<date>.+)  # Date\n",
    "  \\]\n",
    "  \\s+\"(?P<command>\\w+) #Command\n",
    "  \\s+(?P<page>\\S+) #Page\n",
    "  \\s+(?P<protocol>\\S+) #Protocol\n",
    "  \"''', re.VERBOSE)\n",
    "m = datere.search(access[0])\n",
    "ts = datetime.strptime(m.group('date'), '%d/%b/%Y:%H:%M:%S %z')\n",
    "ts, m.group('command'), m.group('page'), m.group('protocol')"
   ]
  },
  {
   "cell_type": "markdown",
   "id": "dffc2225-bad8-4f05-96df-b82155535676",
   "metadata": {},
   "source": [
    "* `re.ASCII`, para considerar solo caracteres ASCII."
   ]
  },
  {
   "cell_type": "code",
   "execution_count": null,
   "id": "47e35577-3859-421a-9608-d78679d80357",
   "metadata": {},
   "outputs": [],
   "source": [
    "p1 = re.compile(r'\\w+')\n",
    "p2 = re.compile(r'\\w+', re.ASCII)\n",
    "m1 = p1.match('avión')\n",
    "m2 = p2.match('avión')\n",
    "m1, m2"
   ]
  },
  {
   "cell_type": "markdown",
   "id": "a577fc21-22dd-4cad-bb01-c23a2b795018",
   "metadata": {},
   "source": [
    "* `rs.DOTALL`. El patrón `.` solo no casa el caracter '\\n. Con esta opción sí"
   ]
  },
  {
   "cell_type": "code",
   "execution_count": null,
   "id": "1e858838-d88b-4a83-9ddb-581c5b8a14d0",
   "metadata": {},
   "outputs": [],
   "source": [
    "s = 'abcá\\ncñde'\n",
    "p1 = re.compile('.*')\n",
    "p2 = re.compile('.*', re.DOTALL)\n",
    "m1 = p1.match(s)\n",
    "m2 = p2.match(s)\n",
    "m1, m2"
   ]
  },
  {
   "cell_type": "markdown",
   "id": "54d9e303-f9ce-491e-aa9f-6790be3da687",
   "metadata": {},
   "source": [
    "Las opciones se pueden combinar"
   ]
  },
  {
   "cell_type": "code",
   "execution_count": null,
   "id": "24da2bdf-8ab5-4690-9916-f0d59f096e7f",
   "metadata": {},
   "outputs": [],
   "source": [
    "s = 'abcá\\ncñde'\n",
    "p1 = re.compile('(\\w+).*(\\w+)')\n",
    "p2 = re.compile('(\\w+).*(\\w+)', re.ASCII | re.DOTALL)\n",
    "m1 = p1.search(s)\n",
    "m2 = p2.search(s)\n",
    "m1.groups(), m2.groups()"
   ]
  }
 ],
 "metadata": {
  "kernelspec": {
   "display_name": "Python 3 (ipykernel)",
   "language": "python",
   "name": "python3"
  },
  "language_info": {
   "codemirror_mode": {
    "name": "ipython",
    "version": 3
   },
   "file_extension": ".py",
   "mimetype": "text/x-python",
   "name": "python",
   "nbconvert_exporter": "python",
   "pygments_lexer": "ipython3",
   "version": "3.11.4"
  }
 },
 "nbformat": 4,
 "nbformat_minor": 5
}
