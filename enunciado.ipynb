{
    "cells": [
        {
            "cell_type": "markdown",
            "metadata": {
                "id": "ju_OpkzM_aMb"
            },
            "source": [
                "\n",
                "MÁSTER BIG DATA & DATA ENGINEERING\n",
                "\n",
                "Programación avanzada en Python\n",
                "\n",
                "Autores: Luis Llana Díaz & Yolanda García Ruiz\n",
                "\n"
            ]
        },
        {
            "cell_type": "markdown",
            "metadata": {
                "id": "lv6DO-LM_aMn"
            },
            "source": [
                "# Trabajo final"
            ]
        },
        {
            "cell_type": "markdown",
            "metadata": {
                "id": "oflRIdDz_aMp"
            },
            "source": [
                "## Nota Preliminar\n",
                "\n",
                "Antes de desarrollar el proyecto, es aconsejable leer el enunciado completamente, incluyendo las instrucciones de entrega y otros consejos que se  recogen al final de este enunciado.\n",
                "En este enunciado se pueden producir cambios durante su desarrollo por distintos motivos: porque se descubre una situación anómala que no ha sido prevista al preparar el enunciado, porque algún estudiante encuentre un error o ambigüedad en la descripción o en los datos de partida o por cualquier otra causa. Esto ocurre también en cualquier proyecto real, así que tomárselo con el mejor talante y aprender también de estas eventuales contingencias. Se procurará informar debidamente del mejor modo posible cuando esto se produzca.\n"
            ]
        },
        {
            "cell_type": "markdown",
            "metadata": {
                "id": "ASxqaXhcRt7m"
            },
            "source": [
                "## Introducción\n",
                "\n",
                "En el portal de datos abiertos de la EMT de Madrid se puede encontrar abundante información sobre transporte y movilidad de la ciudad. En particular los datos relativos a la utilización del servicio de bicicletas eléctricas del ayuntamiento de Madrid.\n",
                "La dirección del portal mencionado es la siguiente:\n",
                "\n",
                "https://opendata.emtmadrid.es/Home\n",
                "\n",
                "y el enlace donde se encuentran los datos relativos a BiciMAD es el siguiente:\n",
                "\n",
                "https://opendata.emtmadrid.es/Datos-estaticos/Datos-generales-(1)\n",
                "\n",
                "En esta página podemos encontrar los datos de uso de BiciMAD por meses desde abril de 2019 hasta el mes Febrero de 2023. Se trata de un conjunto de URLs a ficheros comprimidos ZIP, donde una vez descomprimidos, podemos encontrar un fichero en formato `csv`.\n",
                "En esta práctica __solo nos va a interesar los datos de uso desde junio el 2021__. Son ficheros con nombre:\n",
                "\n",
                "`\n",
                "trips_YY_MM_monthName.csv\n",
                "`\n",
                "\n",
                "donde `YY` representa el año, `MM` representa el mes y `monthName` representa el nombre del mes en inglés.\n",
                "\n",
                "Los datos del mes 10 del año 2021 está mal generado por la EMT, por lo que se pide que no se use ese fichero.\n",
                "\n",
                "### Metadatos\n",
                "\n",
                "En cada uno de los ficheros `csv` podemos encontrar los siguientes datos:\n",
                "\n",
                "* `date` (Fecha): La fecha en la que tuvo lugar el viaje.\n",
                "* `idbike` (ID de Bicicleta): El identificador único de la bicicleta utilizada para el viaje.\n",
                "* `fleet` (Flota): La flota a la que pertenece la bicicleta utilizada.\n",
                "* `trip_minutes` (Duración del Viaje en Minutos): La duración del viaje en minutos.\n",
                "* `geolocation_unlock` (Geolocalización de Desbloqueo): Las coordenadas geográficas del lugar de inicio del viaje.\n",
                "* `address_unlock` (Dirección de Desbloqueo): La dirección postal en la que se desbloqueó la bicicleta.\n",
                "* `unlock_date` (Fecha y Hora de Desbloqueo): La fecha y hora exactas en las que comenzó el viaje.\n",
                "* `locktype` (Tipo de Bloqueo): El estado de la bicicleta antes del viaje. Puede estar anclada en una estación o simplemente bloqueada en cualquier lugar libremente.\n",
                "* `unlocktype` (Tipo de Desbloqueo): El estado de la bicicleta después del viaje.\n",
                "* `geolocation_lock` (Geolocalización de Bloqueo): Las coordenadas geográficas del lugar final del viaje.\n",
                "* `address_lock` (Dirección de Bloqueo): La dirección postal en la que se bloqueó la bicicleta.\n",
                "* `lock_date` (Fecha y Hora de Bloqueo): La fecha y hora exactas en las que finalizó el viaje.\n",
                "* `station_unlock` (Número de Estación de Desbloqueo): El número de la estación en la que la bicicleta estaba anclada antes del viaje, si la había.\n",
                "* `dock_unlock` (Muelle de Desbloqueo): El muelle de la estación en la que la bicicleta estaba anclada antes del viaje, si la había.\n",
                "*  `unlock_station_name` (Nombre de la Estación de Desbloqueo): El nombre de la estación en la que la bicicleta estaba anclada antes del viaje, si la había.\n",
                "* `station_lock` (Número de Estación de Bloqueo): El número de la estación en la que la bicicleta estaba anclada después del viaje, si la había.\n",
                "* `dock_lock` (Muelle de Bloqueo): El muelle de la estación en la que la bicicleta estaba anclada después del viaje, si la había.\n",
                "* `lock_station_name` (Nombre de la Estación de Bloqueo): El nombre de la estación en la que la bicicleta estaba anclada después del viaje, si la había.\n",
                "\n",
                "## Librerías\n",
                "\n",
                "Importar todas las librerías necesarias al principio, tal como propone el estilo `pep-8`. Ej.:\n",
                "<a href=\"https://www.python.org/dev/peps/pep-0008/\">PEP 8 -- Style Guide for Python Code</a>."
            ]
        },
        {
            "cell_type": "code",
            "execution_count": 1,
            "metadata": {
                "id": "pWnis8jARt7p"
            },
            "outputs": [],
            "source": [
                "import requests,certifi\n",
                "import zipfile\n",
                "import io\n",
                "import pandas as pd\n",
                "import truststore\n",
                "truststore.inject_into_ssl()   # <- activa el almacén del sistema\n"
            ]
        },
        {
            "cell_type": "markdown",
            "metadata": {
                "id": "PQD68K2e8Lv4"
            },
            "source": [
                "## ETAPA 1. Análisis exploratorio y consultas."
            ]
        },
        {
            "cell_type": "markdown",
            "metadata": {
                "id": "0KFTJmT8Rt7r"
            },
            "source": [
                "\n",
                "\n",
                "### La descarga de los ficheros\n",
                "\n",
                "En este notebook vamos a estudiar únicamente los datos de febrero de 2023.\n",
                "La URL que permite descargar dichos datos es la siguiente:"
            ]
        },
        {
            "cell_type": "code",
            "execution_count": 2,
            "metadata": {
                "id": "mbchhQSgRt7r"
            },
            "outputs": [],
            "source": [
                "url = \"https://antares.sip.ucm.es/luis/bicimad/bicimad_2023/trips_23_02_February-csv.zip\""
            ]
        },
        {
            "cell_type": "markdown",
            "metadata": {
                "id": "j1LR_HpdRt7s"
            },
            "source": [
                "Observa que en la URL aparece la cadena `trips_23_02`, y que el fichero ZIP tiene un archivo de datos en formato csv llamado `trips_23_02_February.csv`.\n",
                "\n",
                "\n",
                "__Se pide:__\n",
                " Escribir una función llamada `csv_from_zip` que reciba como único argumento un string que represente la URL al fichero ZIP de datos de uso y devuelva un fichero en formato CSV. El tipo del objeto devuelto es `TextIO`. La función  lanzará una excepción de tipo `ConnectionError` en caso de que falle la petición al servidor de la EMT.\n",
                "\n",
                "__Observaciones:__\n",
                "En el notebook `05_ficheros` del módulo de `Secuencias` se habla del manejo de ficheros en formato ZIP, y de cómo leer un fichero, transformarlo en una cadena de caracteres para posteriormente, usando el método `String.IO`, obtener un fichero de texto.\n",
                "Deberás importar el módulo `typing`."
            ]
        },
        {
            "cell_type": "code",
            "execution_count": 3,
            "metadata": {},
            "outputs": [],
            "source": [
                "def csv_from_zip(url: str):\n",
                "    try:\n",
                "        response = requests.get(url)\n",
                "        response.raise_for_status()  # Lanza HTTPError si no es 2xx\n",
                "    except requests.RequestException as e:\n",
                "        raise ConnectionError(f\"Error al conectar con el servidor de la EMT: {e}\")\n",
                "\n",
                "    # Leer el contenido del ZIP en memoria\n",
                "    zip_bytes = io.BytesIO(response.content)\n",
                "\n",
                "    with zipfile.ZipFile(zip_bytes) as z:\n",
                "        # Buscar archivos CSV dentro del ZIP\n",
                "        csv_files = [f for f in z.namelist() if f.lower().endswith('.csv')]\n",
                "        if not csv_files:\n",
                "            raise ValueError(\"El archivo ZIP no contiene ningún fichero CSV.\")\n",
                "\n",
                "        # Abrir el primer CSV y envolverlo como TextIO\n",
                "        csv_file = z.open(csv_files[0])\n",
                "        print(\"El método se ejecutó correctamente\\n\")\n",
                "        return io.TextIOWrapper(csv_file, encoding='utf-8')\n"
            ]
        },
        {
            "cell_type": "code",
            "execution_count": 4,
            "metadata": {
                "id": "jWp_chU647ei"
            },
            "outputs": [
                {
                    "name": "stdout",
                    "output_type": "stream",
                    "text": [
                        "El método se ejecutó correctamente\n",
                        "\n",
                        "fecha;idBike;fleet;trip_minutes;geolocation_unlock;address_unlock;unlock_date;locktype;unlocktype;geolocation_lock;address_lock;lock_date;station_unlock;dock_unlock;unlock_station_name;station_lock;dock_lock;lock_station_name\n",
                        ";;;;;;;;;;;;;;;;;\n",
                        "2023-02-01;7337;1;5.52;{'type': 'Point', 'coordinates': [-3.6956178, 40.4132798]};'Calle Jesús nº 1';2023-02-01T00:00:10;STATION;STATION;{'type': 'Point', 'coordinates': [-3.7088337, 40.4112744]};'Plaza de la Cebada nº 16 ';2023-02-01T00:05:41;31;3;27 - Huertas;43;3;39 - Plaza de la Cebada\n",
                        ";;;;;;;;;;;;;;;;;\n",
                        "2023-02-01;5098;1;0.32;{'type': 'Point', 'coordinates': [-3.7022591, 40.4056107]};'Glorieta de Embajadores nº 2';2023-02-01T00:00:25;STATION;STATION;{'type': 'Point', 'coordinates': [-3.7022591, 40.4056107]};'Glorieta de Embajadores nº 2';2023-02-01T00:00:44;52;22;48 - Embajadores 2;52;22;48 - Embajadores 2\n",
                        ";;;;;;;;;;;;;;;;;\n",
                        "2023-02-01;6519;1;0.27;{'type': 'Point', 'coordinates': [-3.6894193, 40.4166834]};'Calle Antonio Maura nº 15';2023-02-01\n"
                    ]
                }
            ],
            "source": [
                "# Prueba\n",
                "contenido = csv_from_zip(url).read() \n",
                "csvfile = io.StringIO(contenido)\n",
                "print(contenido[:1000])\n"
            ]
        },
        {
            "cell_type": "markdown",
            "metadata": {
                "id": "x0QkhwTB2m1U"
            },
            "source": [
                "### Creación del dataframe de datos\n",
                "\n",
                "__Se pide:__\n",
                "Crear una función llamada `get_data` que reciba como único argumento un fichero csv y que devuelva un objeto de tipo DataFrame con las siguientes restricciones:\n",
                "* El índice del dataframe debe ser a fecha en la que tuvo lugar el viaje (usa el argumento `index_col`).\n",
                "* Todas las fechas que aparecen en los datos ha de tener tipo `datetime` (usa el argumento 'parse_dates`).\n",
                "* De todas las columnas que hay en el fichero, solo nos interesan las siguientes:\n",
                "\n",
                "   ```\n",
                "     [ 'idBike', 'fleet', 'trip_minutes', 'geolocation_unlock', 'address_unlock', 'unlock_date', 'locktype',\n",
                "     'unlocktype', 'geolocation_lock', 'address_lock', 'lock_date', 'station_unlock', 'unlock_station_name',\n",
                "     'station_lock', 'lock_station_name']\n",
                "   ```\n",
                "\n",
                "por lo que el dataframe ha de tener solo dichas columnas.\n",
                "\n",
                "__Observaciones:__ Observa que los datos de usos que publica la EMT son fichero CSV donde el separador de campos es el símbolo `;`."
            ]
        },
        {
            "cell_type": "code",
            "execution_count": 5,
            "metadata": {
                "id": "3K-RPhMgRt7v"
            },
            "outputs": [],
            "source": [
                "def get_data(csv_file):\n",
                "    columnas_interes = [\n",
                "        'idBike', 'fleet', 'trip_minutes', 'geolocation_unlock', 'address_unlock', 'unlock_date',\n",
                "        'locktype', 'unlocktype', 'geolocation_lock', 'address_lock', 'lock_date',\n",
                "        'station_unlock', 'unlock_station_name', 'station_lock', 'lock_station_name'\n",
                "    ]\n",
                "\n",
                "    # Cargar el DataFrame cumpliendo las condiciones:\n",
                "    df = pd.read_csv(\n",
                "        csv_file,\n",
                "        sep=';',                             # Separador ';' como en los archivos de EMT\n",
                "        usecols=columnas_interes,                  # Solo las columnas requeridas\n",
                "        index_col='unlock_date',                   # Índice: la fecha de desbloqueo\n",
                "        parse_dates=['unlock_date', 'lock_date']   # Convertir columnas de fecha a tipo datetime\n",
                "    )\n",
                "    # Convertir índice a solo fecha (sin hora)\n",
                "    df.index = df.index.date\n",
                "\n",
                "    # Renombrar el índice a 'fecha'\n",
                "    df.index.name = 'fecha'\n",
                "\n",
                "    return df"
            ]
        },
        {
            "cell_type": "code",
            "execution_count": 6,
            "metadata": {
                "colab": {
                    "base_uri": "https://localhost:8080/",
                    "height": 327
                },
                "id": "nQBUiKQORt7w",
                "outputId": "bd264bd7-cf9e-4d80-af75-f505b2a99f67"
            },
            "outputs": [
                {
                    "data": {
                        "text/html": [
                            "<div>\n",
                            "<style scoped>\n",
                            "    .dataframe tbody tr th:only-of-type {\n",
                            "        vertical-align: middle;\n",
                            "    }\n",
                            "\n",
                            "    .dataframe tbody tr th {\n",
                            "        vertical-align: top;\n",
                            "    }\n",
                            "\n",
                            "    .dataframe thead th {\n",
                            "        text-align: right;\n",
                            "    }\n",
                            "</style>\n",
                            "<table border=\"1\" class=\"dataframe\">\n",
                            "  <thead>\n",
                            "    <tr style=\"text-align: right;\">\n",
                            "      <th></th>\n",
                            "      <th>idBike</th>\n",
                            "      <th>fleet</th>\n",
                            "      <th>trip_minutes</th>\n",
                            "      <th>geolocation_unlock</th>\n",
                            "      <th>address_unlock</th>\n",
                            "      <th>locktype</th>\n",
                            "      <th>unlocktype</th>\n",
                            "      <th>geolocation_lock</th>\n",
                            "      <th>address_lock</th>\n",
                            "      <th>lock_date</th>\n",
                            "      <th>station_unlock</th>\n",
                            "      <th>unlock_station_name</th>\n",
                            "      <th>station_lock</th>\n",
                            "      <th>lock_station_name</th>\n",
                            "    </tr>\n",
                            "    <tr>\n",
                            "      <th>fecha</th>\n",
                            "      <th></th>\n",
                            "      <th></th>\n",
                            "      <th></th>\n",
                            "      <th></th>\n",
                            "      <th></th>\n",
                            "      <th></th>\n",
                            "      <th></th>\n",
                            "      <th></th>\n",
                            "      <th></th>\n",
                            "      <th></th>\n",
                            "      <th></th>\n",
                            "      <th></th>\n",
                            "      <th></th>\n",
                            "      <th></th>\n",
                            "    </tr>\n",
                            "  </thead>\n",
                            "  <tbody>\n",
                            "    <tr>\n",
                            "      <th>NaT</th>\n",
                            "      <td>NaN</td>\n",
                            "      <td>NaN</td>\n",
                            "      <td>NaN</td>\n",
                            "      <td>NaN</td>\n",
                            "      <td>NaN</td>\n",
                            "      <td>NaN</td>\n",
                            "      <td>NaN</td>\n",
                            "      <td>NaN</td>\n",
                            "      <td>NaN</td>\n",
                            "      <td>NaT</td>\n",
                            "      <td>NaN</td>\n",
                            "      <td>NaN</td>\n",
                            "      <td>NaN</td>\n",
                            "      <td>NaN</td>\n",
                            "    </tr>\n",
                            "    <tr>\n",
                            "      <th>2023-02-01</th>\n",
                            "      <td>7337.0</td>\n",
                            "      <td>1.0</td>\n",
                            "      <td>5.52</td>\n",
                            "      <td>{'type': 'Point', 'coordinates': [-3.6956178, ...</td>\n",
                            "      <td>'Calle Jesús nº 1'</td>\n",
                            "      <td>STATION</td>\n",
                            "      <td>STATION</td>\n",
                            "      <td>{'type': 'Point', 'coordinates': [-3.7088337, ...</td>\n",
                            "      <td>'Plaza de la Cebada nº 16 '</td>\n",
                            "      <td>2023-02-01 00:05:41</td>\n",
                            "      <td>31.0</td>\n",
                            "      <td>27 - Huertas</td>\n",
                            "      <td>43.0</td>\n",
                            "      <td>39 - Plaza de la Cebada</td>\n",
                            "    </tr>\n",
                            "    <tr>\n",
                            "      <th>NaT</th>\n",
                            "      <td>NaN</td>\n",
                            "      <td>NaN</td>\n",
                            "      <td>NaN</td>\n",
                            "      <td>NaN</td>\n",
                            "      <td>NaN</td>\n",
                            "      <td>NaN</td>\n",
                            "      <td>NaN</td>\n",
                            "      <td>NaN</td>\n",
                            "      <td>NaN</td>\n",
                            "      <td>NaT</td>\n",
                            "      <td>NaN</td>\n",
                            "      <td>NaN</td>\n",
                            "      <td>NaN</td>\n",
                            "      <td>NaN</td>\n",
                            "    </tr>\n",
                            "    <tr>\n",
                            "      <th>2023-02-01</th>\n",
                            "      <td>5098.0</td>\n",
                            "      <td>1.0</td>\n",
                            "      <td>0.32</td>\n",
                            "      <td>{'type': 'Point', 'coordinates': [-3.7022591, ...</td>\n",
                            "      <td>'Glorieta de Embajadores nº 2'</td>\n",
                            "      <td>STATION</td>\n",
                            "      <td>STATION</td>\n",
                            "      <td>{'type': 'Point', 'coordinates': [-3.7022591, ...</td>\n",
                            "      <td>'Glorieta de Embajadores nº 2'</td>\n",
                            "      <td>2023-02-01 00:00:44</td>\n",
                            "      <td>52.0</td>\n",
                            "      <td>48 - Embajadores 2</td>\n",
                            "      <td>52.0</td>\n",
                            "      <td>48 - Embajadores 2</td>\n",
                            "    </tr>\n",
                            "    <tr>\n",
                            "      <th>NaT</th>\n",
                            "      <td>NaN</td>\n",
                            "      <td>NaN</td>\n",
                            "      <td>NaN</td>\n",
                            "      <td>NaN</td>\n",
                            "      <td>NaN</td>\n",
                            "      <td>NaN</td>\n",
                            "      <td>NaN</td>\n",
                            "      <td>NaN</td>\n",
                            "      <td>NaN</td>\n",
                            "      <td>NaT</td>\n",
                            "      <td>NaN</td>\n",
                            "      <td>NaN</td>\n",
                            "      <td>NaN</td>\n",
                            "      <td>NaN</td>\n",
                            "    </tr>\n",
                            "  </tbody>\n",
                            "</table>\n",
                            "</div>"
                        ],
                        "text/plain": [
                            "            idBike  fleet  trip_minutes  \\\n",
                            "fecha                                     \n",
                            "NaT            NaN    NaN           NaN   \n",
                            "2023-02-01  7337.0    1.0          5.52   \n",
                            "NaT            NaN    NaN           NaN   \n",
                            "2023-02-01  5098.0    1.0          0.32   \n",
                            "NaT            NaN    NaN           NaN   \n",
                            "\n",
                            "                                           geolocation_unlock  \\\n",
                            "fecha                                                           \n",
                            "NaT                                                       NaN   \n",
                            "2023-02-01  {'type': 'Point', 'coordinates': [-3.6956178, ...   \n",
                            "NaT                                                       NaN   \n",
                            "2023-02-01  {'type': 'Point', 'coordinates': [-3.7022591, ...   \n",
                            "NaT                                                       NaN   \n",
                            "\n",
                            "                            address_unlock locktype unlocktype  \\\n",
                            "fecha                                                            \n",
                            "NaT                                    NaN      NaN        NaN   \n",
                            "2023-02-01              'Calle Jesús nº 1'  STATION    STATION   \n",
                            "NaT                                    NaN      NaN        NaN   \n",
                            "2023-02-01  'Glorieta de Embajadores nº 2'  STATION    STATION   \n",
                            "NaT                                    NaN      NaN        NaN   \n",
                            "\n",
                            "                                             geolocation_lock  \\\n",
                            "fecha                                                           \n",
                            "NaT                                                       NaN   \n",
                            "2023-02-01  {'type': 'Point', 'coordinates': [-3.7088337, ...   \n",
                            "NaT                                                       NaN   \n",
                            "2023-02-01  {'type': 'Point', 'coordinates': [-3.7022591, ...   \n",
                            "NaT                                                       NaN   \n",
                            "\n",
                            "                              address_lock           lock_date  \\\n",
                            "fecha                                                            \n",
                            "NaT                                    NaN                 NaT   \n",
                            "2023-02-01     'Plaza de la Cebada nº 16 ' 2023-02-01 00:05:41   \n",
                            "NaT                                    NaN                 NaT   \n",
                            "2023-02-01  'Glorieta de Embajadores nº 2' 2023-02-01 00:00:44   \n",
                            "NaT                                    NaN                 NaT   \n",
                            "\n",
                            "            station_unlock unlock_station_name  station_lock  \\\n",
                            "fecha                                                          \n",
                            "NaT                    NaN                 NaN           NaN   \n",
                            "2023-02-01            31.0        27 - Huertas          43.0   \n",
                            "NaT                    NaN                 NaN           NaN   \n",
                            "2023-02-01            52.0  48 - Embajadores 2          52.0   \n",
                            "NaT                    NaN                 NaN           NaN   \n",
                            "\n",
                            "                  lock_station_name  \n",
                            "fecha                                \n",
                            "NaT                             NaN  \n",
                            "2023-02-01  39 - Plaza de la Cebada  \n",
                            "NaT                             NaN  \n",
                            "2023-02-01       48 - Embajadores 2  \n",
                            "NaT                             NaN  "
                        ]
                    },
                    "execution_count": 6,
                    "metadata": {},
                    "output_type": "execute_result"
                }
            ],
            "source": [
                "\n",
                "csvfile = io.StringIO(contenido)\n",
                "usos = get_data(csvfile)\n",
                "usos.head()"
            ]
        },
        {
            "cell_type": "markdown",
            "metadata": {
                "id": "OZFFhbfoRt7x"
            },
            "source": [
                "### Explorar la estructura de los datos en el dataframe\n",
                "\n",
                "El método `info` devuelve información acerca de la estructura de un dataframe.\n",
                "\n",
                "__Se pide:__\n",
                "Escribe el código necesario para crear un dataframe llamado `usos` a partir de la url \"https://opendata.emtmadrid.es/getattachment/7a88cb04-9007-4520-88c5-a94c71a0b925/trips_23_02_February-csv.aspx\".\n",
                "Ejecuta el método `info()` sobre el dataframe y comenta los resultados.\n",
                "Fíjate en las columnas que representan fechas y comprueba su tipo de datos. ¿Cuántas filas se han cargado?. Fíjate en los valores distintos de `NaN` en cada una de las columnas."
            ]
        },
        {
            "cell_type": "code",
            "execution_count": 7,
            "metadata": {
                "id": "sc7qtntbRt7y"
            },
            "outputs": [
                {
                    "name": "stdout",
                    "output_type": "stream",
                    "text": [
                        "El método se ejecutó correctamente\n",
                        "\n",
                        "<class 'pandas.core.frame.DataFrame'>\n",
                        "Index: 336988 entries, NaT to 2023-02-18\n",
                        "Data columns (total 14 columns):\n",
                        " #   Column               Non-Null Count   Dtype         \n",
                        "---  ------               --------------   -----         \n",
                        " 0   idBike               168494 non-null  float64       \n",
                        " 1   fleet                168494 non-null  float64       \n",
                        " 2   trip_minutes         168494 non-null  float64       \n",
                        " 3   geolocation_unlock   168494 non-null  object        \n",
                        " 4   address_unlock       168494 non-null  object        \n",
                        " 5   locktype             168494 non-null  object        \n",
                        " 6   unlocktype           168494 non-null  object        \n",
                        " 7   geolocation_lock     168494 non-null  object        \n",
                        " 8   address_lock         168494 non-null  object        \n",
                        " 9   lock_date            168494 non-null  datetime64[ns]\n",
                        " 10  station_unlock       168114 non-null  float64       \n",
                        " 11  unlock_station_name  168114 non-null  object        \n",
                        " 12  station_lock         168018 non-null  float64       \n",
                        " 13  lock_station_name    168018 non-null  object        \n",
                        "dtypes: datetime64[ns](1), float64(5), object(8)\n",
                        "memory usage: 38.6+ MB\n"
                    ]
                }
            ],
            "source": [
                "contenido = csv_from_zip(url).read() \n",
                "csvfile = io.StringIO(contenido)\n",
                "usos= get_data(csvfile)\n",
                "usos.info()"
            ]
        },
        {
            "cell_type": "markdown",
            "metadata": {
                "collapsed": true,
                "jupyter": {
                    "outputs_hidden": true
                }
            },
            "source": [
                "# RESPUESTA\n",
                "\n",
                "### Datos generales\n",
                "\n",
                "El DataFrame contiene 336,988 registros distribuidos en 14 columnas. El índice está basado en fechas, aunque algunos valores aparecen como `NaN` y `NaT`.\n",
                "De todos los registros, solo alrededor de la mitad (≈168 mil) tienen información completa. Esto indica que será necesario manejar valores faltantes en varias columnas, especialmente en identificadores y estaciones.\n",
                "\n",
                "#### Tipos de columnas\n",
                "\n",
                "La columna `lock_date` está en formato de fecha y hora, lo que permitirá realizar análisis por periodos de tiempo, detectar patrones de uso y comparar entre distintos días o meses.\n",
                "\n",
                "Los viajes cuentan con datos de ubicación tanto en forma de coordenadas (`geolocation_unlock`, `geolocation_lock`) como de estaciones (ID y nombre de desbloqueo/bloqueo). Esto abre la posibilidad de hacer análisis espaciales, pero también implica limpiar y estandarizar la información.\n",
                "\n",
                "Existen columnas que describen cómo se interactuó con la bicicleta: `locktype` y `unlocktype`, que pueden ser útiles para entender los distintos modos de acceso y cierre."
            ]
        },
        {
            "cell_type": "markdown",
            "metadata": {
                "id": "7OwHFc6SRt7z"
            },
            "source": [
                "### Borrado de valores NaN.\n",
                "\n",
                "El método  `dropna` de los DataFrames tiene un argumento `how` que permite indicar que se borren filas o columnas donde todos los valores son `NaN`.\n",
                "\n",
                "__Se pide:__ Crear una función llamada `delete_nan_rows` que borre las filas con todos sus valores `NaN` de un dataframe recibido como argumento. La función modifica el dataframe y no devuelve nada.  \n",
                "\n",
                "Comenta los resultados. Prueba la función `delete_nan_rows` con el dataframe `usos`. Comprueba que el número de filas del dataframe `usos` ha cambiado. Puedes volver a ejecutar el método `info` y compáralo con el resultado antes de invocar a la función `delete_nan_rows`."
            ]
        },
        {
            "cell_type": "code",
            "execution_count": 8,
            "metadata": {
                "id": "eoZVNPk2Rt70"
            },
            "outputs": [],
            "source": [
                "def delete_nan_rows(df):\n",
                "    \"\"\"\n",
                "    Elimina las filas que donde todos sus valores son NaN.\n",
                "    \"\"\"\n",
                "    df.dropna(how=\"all\", inplace=True)\n"
            ]
        },
        {
            "cell_type": "code",
            "execution_count": 9,
            "metadata": {},
            "outputs": [
                {
                    "name": "stdout",
                    "output_type": "stream",
                    "text": [
                        "<class 'pandas.core.frame.DataFrame'>\n",
                        "Index: 168494 entries, 2023-02-01 to 2023-02-18\n",
                        "Data columns (total 14 columns):\n",
                        " #   Column               Non-Null Count   Dtype         \n",
                        "---  ------               --------------   -----         \n",
                        " 0   idBike               168494 non-null  float64       \n",
                        " 1   fleet                168494 non-null  float64       \n",
                        " 2   trip_minutes         168494 non-null  float64       \n",
                        " 3   geolocation_unlock   168494 non-null  object        \n",
                        " 4   address_unlock       168494 non-null  object        \n",
                        " 5   locktype             168494 non-null  object        \n",
                        " 6   unlocktype           168494 non-null  object        \n",
                        " 7   geolocation_lock     168494 non-null  object        \n",
                        " 8   address_lock         168494 non-null  object        \n",
                        " 9   lock_date            168494 non-null  datetime64[ns]\n",
                        " 10  station_unlock       168114 non-null  float64       \n",
                        " 11  unlock_station_name  168114 non-null  object        \n",
                        " 12  station_lock         168018 non-null  float64       \n",
                        " 13  lock_station_name    168018 non-null  object        \n",
                        "dtypes: datetime64[ns](1), float64(5), object(8)\n",
                        "memory usage: 19.3+ MB\n"
                    ]
                },
                {
                    "data": {
                        "text/html": [
                            "<div>\n",
                            "<style scoped>\n",
                            "    .dataframe tbody tr th:only-of-type {\n",
                            "        vertical-align: middle;\n",
                            "    }\n",
                            "\n",
                            "    .dataframe tbody tr th {\n",
                            "        vertical-align: top;\n",
                            "    }\n",
                            "\n",
                            "    .dataframe thead th {\n",
                            "        text-align: right;\n",
                            "    }\n",
                            "</style>\n",
                            "<table border=\"1\" class=\"dataframe\">\n",
                            "  <thead>\n",
                            "    <tr style=\"text-align: right;\">\n",
                            "      <th></th>\n",
                            "      <th>idBike</th>\n",
                            "      <th>fleet</th>\n",
                            "      <th>trip_minutes</th>\n",
                            "      <th>geolocation_unlock</th>\n",
                            "      <th>address_unlock</th>\n",
                            "      <th>locktype</th>\n",
                            "      <th>unlocktype</th>\n",
                            "      <th>geolocation_lock</th>\n",
                            "      <th>address_lock</th>\n",
                            "      <th>lock_date</th>\n",
                            "      <th>station_unlock</th>\n",
                            "      <th>unlock_station_name</th>\n",
                            "      <th>station_lock</th>\n",
                            "      <th>lock_station_name</th>\n",
                            "    </tr>\n",
                            "    <tr>\n",
                            "      <th>fecha</th>\n",
                            "      <th></th>\n",
                            "      <th></th>\n",
                            "      <th></th>\n",
                            "      <th></th>\n",
                            "      <th></th>\n",
                            "      <th></th>\n",
                            "      <th></th>\n",
                            "      <th></th>\n",
                            "      <th></th>\n",
                            "      <th></th>\n",
                            "      <th></th>\n",
                            "      <th></th>\n",
                            "      <th></th>\n",
                            "      <th></th>\n",
                            "    </tr>\n",
                            "  </thead>\n",
                            "  <tbody>\n",
                            "    <tr>\n",
                            "      <th>2023-02-01</th>\n",
                            "      <td>7337.0</td>\n",
                            "      <td>1.0</td>\n",
                            "      <td>5.52</td>\n",
                            "      <td>{'type': 'Point', 'coordinates': [-3.6956178, ...</td>\n",
                            "      <td>'Calle Jesús nº 1'</td>\n",
                            "      <td>STATION</td>\n",
                            "      <td>STATION</td>\n",
                            "      <td>{'type': 'Point', 'coordinates': [-3.7088337, ...</td>\n",
                            "      <td>'Plaza de la Cebada nº 16 '</td>\n",
                            "      <td>2023-02-01 00:05:41</td>\n",
                            "      <td>31.0</td>\n",
                            "      <td>27 - Huertas</td>\n",
                            "      <td>43.0</td>\n",
                            "      <td>39 - Plaza de la Cebada</td>\n",
                            "    </tr>\n",
                            "    <tr>\n",
                            "      <th>2023-02-01</th>\n",
                            "      <td>5098.0</td>\n",
                            "      <td>1.0</td>\n",
                            "      <td>0.32</td>\n",
                            "      <td>{'type': 'Point', 'coordinates': [-3.7022591, ...</td>\n",
                            "      <td>'Glorieta de Embajadores nº 2'</td>\n",
                            "      <td>STATION</td>\n",
                            "      <td>STATION</td>\n",
                            "      <td>{'type': 'Point', 'coordinates': [-3.7022591, ...</td>\n",
                            "      <td>'Glorieta de Embajadores nº 2'</td>\n",
                            "      <td>2023-02-01 00:00:44</td>\n",
                            "      <td>52.0</td>\n",
                            "      <td>48 - Embajadores 2</td>\n",
                            "      <td>52.0</td>\n",
                            "      <td>48 - Embajadores 2</td>\n",
                            "    </tr>\n",
                            "    <tr>\n",
                            "      <th>2023-02-01</th>\n",
                            "      <td>6519.0</td>\n",
                            "      <td>1.0</td>\n",
                            "      <td>0.27</td>\n",
                            "      <td>{'type': 'Point', 'coordinates': [-3.6894193, ...</td>\n",
                            "      <td>'Calle Antonio Maura nº 15'</td>\n",
                            "      <td>STATION</td>\n",
                            "      <td>STATION</td>\n",
                            "      <td>{'type': 'Point', 'coordinates': [-3.6894193, ...</td>\n",
                            "      <td>'Calle Antonio Maura nº 15'</td>\n",
                            "      <td>2023-02-01 00:00:52</td>\n",
                            "      <td>69.0</td>\n",
                            "      <td>65 - Antonio Maura</td>\n",
                            "      <td>69.0</td>\n",
                            "      <td>65 - Antonio Maura</td>\n",
                            "    </tr>\n",
                            "    <tr>\n",
                            "      <th>2023-02-01</th>\n",
                            "      <td>2551.0</td>\n",
                            "      <td>1.0</td>\n",
                            "      <td>8.58</td>\n",
                            "      <td>{'type': 'Point', 'coordinates': [-3.7022591, ...</td>\n",
                            "      <td>'Glorieta de Embajadores nº 2'</td>\n",
                            "      <td>STATION</td>\n",
                            "      <td>STATION</td>\n",
                            "      <td>{'type': 'Point', 'coordinates': [-3.6991147, ...</td>\n",
                            "      <td>'Calle Atocha nº 54'</td>\n",
                            "      <td>2023-02-01 00:09:28</td>\n",
                            "      <td>52.0</td>\n",
                            "      <td>48 - Embajadores 2</td>\n",
                            "      <td>45.0</td>\n",
                            "      <td>41 - Antón Martín</td>\n",
                            "    </tr>\n",
                            "    <tr>\n",
                            "      <th>2023-02-01</th>\n",
                            "      <td>6519.0</td>\n",
                            "      <td>1.0</td>\n",
                            "      <td>0.20</td>\n",
                            "      <td>{'type': 'Point', 'coordinates': [-3.6894193, ...</td>\n",
                            "      <td>'Calle Antonio Maura nº 15'</td>\n",
                            "      <td>STATION</td>\n",
                            "      <td>STATION</td>\n",
                            "      <td>{'type': 'Point', 'coordinates': [-3.6894193, ...</td>\n",
                            "      <td>'Calle Antonio Maura nº 15'</td>\n",
                            "      <td>2023-02-01 00:01:09</td>\n",
                            "      <td>69.0</td>\n",
                            "      <td>65 - Antonio Maura</td>\n",
                            "      <td>69.0</td>\n",
                            "      <td>65 - Antonio Maura</td>\n",
                            "    </tr>\n",
                            "  </tbody>\n",
                            "</table>\n",
                            "</div>"
                        ],
                        "text/plain": [
                            "            idBike  fleet  trip_minutes  \\\n",
                            "fecha                                     \n",
                            "2023-02-01  7337.0    1.0          5.52   \n",
                            "2023-02-01  5098.0    1.0          0.32   \n",
                            "2023-02-01  6519.0    1.0          0.27   \n",
                            "2023-02-01  2551.0    1.0          8.58   \n",
                            "2023-02-01  6519.0    1.0          0.20   \n",
                            "\n",
                            "                                           geolocation_unlock  \\\n",
                            "fecha                                                           \n",
                            "2023-02-01  {'type': 'Point', 'coordinates': [-3.6956178, ...   \n",
                            "2023-02-01  {'type': 'Point', 'coordinates': [-3.7022591, ...   \n",
                            "2023-02-01  {'type': 'Point', 'coordinates': [-3.6894193, ...   \n",
                            "2023-02-01  {'type': 'Point', 'coordinates': [-3.7022591, ...   \n",
                            "2023-02-01  {'type': 'Point', 'coordinates': [-3.6894193, ...   \n",
                            "\n",
                            "                            address_unlock locktype unlocktype  \\\n",
                            "fecha                                                            \n",
                            "2023-02-01              'Calle Jesús nº 1'  STATION    STATION   \n",
                            "2023-02-01  'Glorieta de Embajadores nº 2'  STATION    STATION   \n",
                            "2023-02-01     'Calle Antonio Maura nº 15'  STATION    STATION   \n",
                            "2023-02-01  'Glorieta de Embajadores nº 2'  STATION    STATION   \n",
                            "2023-02-01     'Calle Antonio Maura nº 15'  STATION    STATION   \n",
                            "\n",
                            "                                             geolocation_lock  \\\n",
                            "fecha                                                           \n",
                            "2023-02-01  {'type': 'Point', 'coordinates': [-3.7088337, ...   \n",
                            "2023-02-01  {'type': 'Point', 'coordinates': [-3.7022591, ...   \n",
                            "2023-02-01  {'type': 'Point', 'coordinates': [-3.6894193, ...   \n",
                            "2023-02-01  {'type': 'Point', 'coordinates': [-3.6991147, ...   \n",
                            "2023-02-01  {'type': 'Point', 'coordinates': [-3.6894193, ...   \n",
                            "\n",
                            "                              address_lock           lock_date  \\\n",
                            "fecha                                                            \n",
                            "2023-02-01     'Plaza de la Cebada nº 16 ' 2023-02-01 00:05:41   \n",
                            "2023-02-01  'Glorieta de Embajadores nº 2' 2023-02-01 00:00:44   \n",
                            "2023-02-01     'Calle Antonio Maura nº 15' 2023-02-01 00:00:52   \n",
                            "2023-02-01            'Calle Atocha nº 54' 2023-02-01 00:09:28   \n",
                            "2023-02-01     'Calle Antonio Maura nº 15' 2023-02-01 00:01:09   \n",
                            "\n",
                            "            station_unlock unlock_station_name  station_lock  \\\n",
                            "fecha                                                          \n",
                            "2023-02-01            31.0        27 - Huertas          43.0   \n",
                            "2023-02-01            52.0  48 - Embajadores 2          52.0   \n",
                            "2023-02-01            69.0  65 - Antonio Maura          69.0   \n",
                            "2023-02-01            52.0  48 - Embajadores 2          45.0   \n",
                            "2023-02-01            69.0  65 - Antonio Maura          69.0   \n",
                            "\n",
                            "                  lock_station_name  \n",
                            "fecha                                \n",
                            "2023-02-01  39 - Plaza de la Cebada  \n",
                            "2023-02-01       48 - Embajadores 2  \n",
                            "2023-02-01       65 - Antonio Maura  \n",
                            "2023-02-01        41 - Antón Martín  \n",
                            "2023-02-01       65 - Antonio Maura  "
                        ]
                    },
                    "execution_count": 9,
                    "metadata": {},
                    "output_type": "execute_result"
                }
            ],
            "source": [
                "delete_nan_rows(usos)\n",
                "usos.info()\n",
                "usos.head()"
            ]
        },
        {
            "cell_type": "markdown",
            "metadata": {},
            "source": [
                "\n",
                "\n",
                "Ahora el DataFrame tiene unas **168 mil filas**,lo que confirma que se borraron todas las filas vacías.  \n",
                "Las columnas siguen siendo las mismas y los **tipos de datos tampoco cambiaron**.  \n",
                "El **peso en memoria** también bajó a la mitad.  \n",
                "Todavía quedan algunas **columnas con valores nulos**, pero ya no hay filas completas vacías.  \n",
                " Esto lo sabemos fijándonos en la diferencia entre **'Non Null Count'** y **'Index entries'**. \n",
                "\n",
                " "
            ]
        },
        {
            "cell_type": "markdown",
            "metadata": {
                "id": "M9oCNyRdRt71"
            },
            "source": [
                "###  Exploración de las columnas.\n",
                "\n",
                "La columna `fleet` representa el tipo de flota de bicicleta eléctrica.\n",
                "Las BiciMAD Go son free floating y se corresponden con tipo de flota 2. A diferencia de las BiciMAD normales, no tienen por qué dejarse en una estación de bicicletas, aunque existe la posibilidad de hacerlo. Su bloqueo se realiza por medio de un candado manual, aspecto en el que se diferencian de las otras bicis municipales.\n",
                "\n",
                "Por otro lado, las columnas `locktype` y `unlocktype` tienen información del tipo de bloqueo y desbloqueo respectivamente.\n",
                "\n",
                "__Se pide:__\n",
                "* ¿Cuántos valores distintos hay en la columna `fleet` del dataframe `usos`?\n",
                "* ¿Cuántos valores distintos hay en las columnas `locktype` y `unlocktype` del dataframe `usos`?"
            ]
        },
        {
            "cell_type": "code",
            "execution_count": 10,
            "metadata": {
                "id": "4W_iGd6ARt71"
            },
            "outputs": [
                {
                    "name": "stdout",
                    "output_type": "stream",
                    "text": [
                        "\n",
                        "Columna: locktype\n",
                        "['STATION' 'FREE']\n",
                        "\n",
                        "Columna: unlocktype\n",
                        "['STATION' 'FREE']\n",
                        "\n",
                        "Columna: fleet\n",
                        "[1. 2.]\n"
                    ]
                }
            ],
            "source": [
                "\n",
                "\n",
                "for col in [\"locktype\", \"unlocktype\", \"fleet\"]:\n",
                "    print(f\"\\nColumna: {col}\")\n",
                "    print(usos[col].unique())\n"
            ]
        },
        {
            "cell_type": "markdown",
            "metadata": {
                "id": "r2z0lErlRt73"
            },
            "source": [
                "### Cambio de tipo de datos\n",
                "\n",
                "Las columnas  `idBike` y `fleet`  tienen tipo float, pero en realidad representan un identificador de bicicleta y de flota respectivamente.\n",
                "\n",
                "__Se pide:__ Crear una función llamada `float_to_str` que cambie el tipo de una columna a tipo string. La función recibe como argumentos un dataframe y el nombre de una columna. La función no devuelve nada.\n",
                "Si la columna no se encuentra entre las columnas del dataframe, la función no hace nada.\n",
                "\n",
                "__Observaciones:__ Puedes usar la función `map` para aplicar la función de transformación.\n",
                "\n",
                "Prueba la función con el datafame `usos` y  las columnas `idBike` y `fleet`.\n",
                "De esta forma, el identificador de bicicleta `7337.0` pasará a ser `'7337'`. Ejecuta la función `info` sobre el dataframe `usos` para comprobar que los tipos asociados a esas columnas han cambiado."
            ]
        },
        {
            "cell_type": "code",
            "execution_count": 11,
            "metadata": {
                "id": "RCMPy5x0Rt74"
            },
            "outputs": [
                {
                    "data": {
                        "text/html": [
                            "<div>\n",
                            "<style scoped>\n",
                            "    .dataframe tbody tr th:only-of-type {\n",
                            "        vertical-align: middle;\n",
                            "    }\n",
                            "\n",
                            "    .dataframe tbody tr th {\n",
                            "        vertical-align: top;\n",
                            "    }\n",
                            "\n",
                            "    .dataframe thead th {\n",
                            "        text-align: right;\n",
                            "    }\n",
                            "</style>\n",
                            "<table border=\"1\" class=\"dataframe\">\n",
                            "  <thead>\n",
                            "    <tr style=\"text-align: right;\">\n",
                            "      <th></th>\n",
                            "      <th>idBike</th>\n",
                            "      <th>fleet</th>\n",
                            "      <th>trip_minutes</th>\n",
                            "      <th>geolocation_unlock</th>\n",
                            "      <th>address_unlock</th>\n",
                            "      <th>locktype</th>\n",
                            "      <th>unlocktype</th>\n",
                            "      <th>geolocation_lock</th>\n",
                            "      <th>address_lock</th>\n",
                            "      <th>lock_date</th>\n",
                            "      <th>station_unlock</th>\n",
                            "      <th>unlock_station_name</th>\n",
                            "      <th>station_lock</th>\n",
                            "      <th>lock_station_name</th>\n",
                            "    </tr>\n",
                            "    <tr>\n",
                            "      <th>fecha</th>\n",
                            "      <th></th>\n",
                            "      <th></th>\n",
                            "      <th></th>\n",
                            "      <th></th>\n",
                            "      <th></th>\n",
                            "      <th></th>\n",
                            "      <th></th>\n",
                            "      <th></th>\n",
                            "      <th></th>\n",
                            "      <th></th>\n",
                            "      <th></th>\n",
                            "      <th></th>\n",
                            "      <th></th>\n",
                            "      <th></th>\n",
                            "    </tr>\n",
                            "  </thead>\n",
                            "  <tbody>\n",
                            "    <tr>\n",
                            "      <th>2023-02-01</th>\n",
                            "      <td>7337</td>\n",
                            "      <td>1</td>\n",
                            "      <td>5.52</td>\n",
                            "      <td>{'type': 'Point', 'coordinates': [-3.6956178, ...</td>\n",
                            "      <td>'Calle Jesús nº 1'</td>\n",
                            "      <td>STATION</td>\n",
                            "      <td>STATION</td>\n",
                            "      <td>{'type': 'Point', 'coordinates': [-3.7088337, ...</td>\n",
                            "      <td>'Plaza de la Cebada nº 16 '</td>\n",
                            "      <td>2023-02-01 00:05:41</td>\n",
                            "      <td>31.0</td>\n",
                            "      <td>27 - Huertas</td>\n",
                            "      <td>43.0</td>\n",
                            "      <td>39 - Plaza de la Cebada</td>\n",
                            "    </tr>\n",
                            "    <tr>\n",
                            "      <th>2023-02-01</th>\n",
                            "      <td>5098</td>\n",
                            "      <td>1</td>\n",
                            "      <td>0.32</td>\n",
                            "      <td>{'type': 'Point', 'coordinates': [-3.7022591, ...</td>\n",
                            "      <td>'Glorieta de Embajadores nº 2'</td>\n",
                            "      <td>STATION</td>\n",
                            "      <td>STATION</td>\n",
                            "      <td>{'type': 'Point', 'coordinates': [-3.7022591, ...</td>\n",
                            "      <td>'Glorieta de Embajadores nº 2'</td>\n",
                            "      <td>2023-02-01 00:00:44</td>\n",
                            "      <td>52.0</td>\n",
                            "      <td>48 - Embajadores 2</td>\n",
                            "      <td>52.0</td>\n",
                            "      <td>48 - Embajadores 2</td>\n",
                            "    </tr>\n",
                            "    <tr>\n",
                            "      <th>2023-02-01</th>\n",
                            "      <td>6519</td>\n",
                            "      <td>1</td>\n",
                            "      <td>0.27</td>\n",
                            "      <td>{'type': 'Point', 'coordinates': [-3.6894193, ...</td>\n",
                            "      <td>'Calle Antonio Maura nº 15'</td>\n",
                            "      <td>STATION</td>\n",
                            "      <td>STATION</td>\n",
                            "      <td>{'type': 'Point', 'coordinates': [-3.6894193, ...</td>\n",
                            "      <td>'Calle Antonio Maura nº 15'</td>\n",
                            "      <td>2023-02-01 00:00:52</td>\n",
                            "      <td>69.0</td>\n",
                            "      <td>65 - Antonio Maura</td>\n",
                            "      <td>69.0</td>\n",
                            "      <td>65 - Antonio Maura</td>\n",
                            "    </tr>\n",
                            "    <tr>\n",
                            "      <th>2023-02-01</th>\n",
                            "      <td>2551</td>\n",
                            "      <td>1</td>\n",
                            "      <td>8.58</td>\n",
                            "      <td>{'type': 'Point', 'coordinates': [-3.7022591, ...</td>\n",
                            "      <td>'Glorieta de Embajadores nº 2'</td>\n",
                            "      <td>STATION</td>\n",
                            "      <td>STATION</td>\n",
                            "      <td>{'type': 'Point', 'coordinates': [-3.6991147, ...</td>\n",
                            "      <td>'Calle Atocha nº 54'</td>\n",
                            "      <td>2023-02-01 00:09:28</td>\n",
                            "      <td>52.0</td>\n",
                            "      <td>48 - Embajadores 2</td>\n",
                            "      <td>45.0</td>\n",
                            "      <td>41 - Antón Martín</td>\n",
                            "    </tr>\n",
                            "    <tr>\n",
                            "      <th>2023-02-01</th>\n",
                            "      <td>6519</td>\n",
                            "      <td>1</td>\n",
                            "      <td>0.20</td>\n",
                            "      <td>{'type': 'Point', 'coordinates': [-3.6894193, ...</td>\n",
                            "      <td>'Calle Antonio Maura nº 15'</td>\n",
                            "      <td>STATION</td>\n",
                            "      <td>STATION</td>\n",
                            "      <td>{'type': 'Point', 'coordinates': [-3.6894193, ...</td>\n",
                            "      <td>'Calle Antonio Maura nº 15'</td>\n",
                            "      <td>2023-02-01 00:01:09</td>\n",
                            "      <td>69.0</td>\n",
                            "      <td>65 - Antonio Maura</td>\n",
                            "      <td>69.0</td>\n",
                            "      <td>65 - Antonio Maura</td>\n",
                            "    </tr>\n",
                            "  </tbody>\n",
                            "</table>\n",
                            "</div>"
                        ],
                        "text/plain": [
                            "           idBike fleet  trip_minutes  \\\n",
                            "fecha                                   \n",
                            "2023-02-01   7337     1          5.52   \n",
                            "2023-02-01   5098     1          0.32   \n",
                            "2023-02-01   6519     1          0.27   \n",
                            "2023-02-01   2551     1          8.58   \n",
                            "2023-02-01   6519     1          0.20   \n",
                            "\n",
                            "                                           geolocation_unlock  \\\n",
                            "fecha                                                           \n",
                            "2023-02-01  {'type': 'Point', 'coordinates': [-3.6956178, ...   \n",
                            "2023-02-01  {'type': 'Point', 'coordinates': [-3.7022591, ...   \n",
                            "2023-02-01  {'type': 'Point', 'coordinates': [-3.6894193, ...   \n",
                            "2023-02-01  {'type': 'Point', 'coordinates': [-3.7022591, ...   \n",
                            "2023-02-01  {'type': 'Point', 'coordinates': [-3.6894193, ...   \n",
                            "\n",
                            "                            address_unlock locktype unlocktype  \\\n",
                            "fecha                                                            \n",
                            "2023-02-01              'Calle Jesús nº 1'  STATION    STATION   \n",
                            "2023-02-01  'Glorieta de Embajadores nº 2'  STATION    STATION   \n",
                            "2023-02-01     'Calle Antonio Maura nº 15'  STATION    STATION   \n",
                            "2023-02-01  'Glorieta de Embajadores nº 2'  STATION    STATION   \n",
                            "2023-02-01     'Calle Antonio Maura nº 15'  STATION    STATION   \n",
                            "\n",
                            "                                             geolocation_lock  \\\n",
                            "fecha                                                           \n",
                            "2023-02-01  {'type': 'Point', 'coordinates': [-3.7088337, ...   \n",
                            "2023-02-01  {'type': 'Point', 'coordinates': [-3.7022591, ...   \n",
                            "2023-02-01  {'type': 'Point', 'coordinates': [-3.6894193, ...   \n",
                            "2023-02-01  {'type': 'Point', 'coordinates': [-3.6991147, ...   \n",
                            "2023-02-01  {'type': 'Point', 'coordinates': [-3.6894193, ...   \n",
                            "\n",
                            "                              address_lock           lock_date  \\\n",
                            "fecha                                                            \n",
                            "2023-02-01     'Plaza de la Cebada nº 16 ' 2023-02-01 00:05:41   \n",
                            "2023-02-01  'Glorieta de Embajadores nº 2' 2023-02-01 00:00:44   \n",
                            "2023-02-01     'Calle Antonio Maura nº 15' 2023-02-01 00:00:52   \n",
                            "2023-02-01            'Calle Atocha nº 54' 2023-02-01 00:09:28   \n",
                            "2023-02-01     'Calle Antonio Maura nº 15' 2023-02-01 00:01:09   \n",
                            "\n",
                            "            station_unlock unlock_station_name  station_lock  \\\n",
                            "fecha                                                          \n",
                            "2023-02-01            31.0        27 - Huertas          43.0   \n",
                            "2023-02-01            52.0  48 - Embajadores 2          52.0   \n",
                            "2023-02-01            69.0  65 - Antonio Maura          69.0   \n",
                            "2023-02-01            52.0  48 - Embajadores 2          45.0   \n",
                            "2023-02-01            69.0  65 - Antonio Maura          69.0   \n",
                            "\n",
                            "                  lock_station_name  \n",
                            "fecha                                \n",
                            "2023-02-01  39 - Plaza de la Cebada  \n",
                            "2023-02-01       48 - Embajadores 2  \n",
                            "2023-02-01       65 - Antonio Maura  \n",
                            "2023-02-01        41 - Antón Martín  \n",
                            "2023-02-01       65 - Antonio Maura  "
                        ]
                    },
                    "execution_count": 11,
                    "metadata": {},
                    "output_type": "execute_result"
                }
            ],
            "source": [
                "def float_to_str(df,colname):\n",
                "    if colname in df.columns:\n",
                "        # Usamos map(str) para convertir valores a string\n",
                "        df[colname] = df[colname].map(lambda x: str(int(x)) if pd.notna(x) else \"Nan\")\n",
                "\n",
                "\n",
                "float_to_str(usos, \"idBike\")\n",
                "float_to_str(usos, \"fleet\")\n",
                "\n",
                "# df ya está modificado\n",
                "usos.head()\n"
            ]
        },
        {
            "cell_type": "markdown",
            "metadata": {
                "id": "Uv_pgIa5Rt76"
            },
            "source": [
                "## Consultas\n",
                "\n",
                "Las siguientes consultas se realizarán con el dataframe `usos` creado en los apartados anteriores."
            ]
        },
        {
            "cell_type": "markdown",
            "metadata": {
                "id": "CaYkWlwxRt76"
            },
            "source": [
                "### C1\n",
                "\n",
                "¿Cuántas bicicletas han sido desbloqueadas de una estación y no se bloquean en ninguna?"
            ]
        },
        {
            "cell_type": "code",
            "execution_count": 12,
            "metadata": {
                "id": "40XRntcJRt77"
            },
            "outputs": [
                {
                    "name": "stdout",
                    "output_type": "stream",
                    "text": [
                        "71\n"
                    ]
                }
            ],
            "source": [
                "\n",
                "\n",
                "bicis = usos.query(\"station_unlock.notna() and station_lock.isna()\")[\"idBike\"].nunique()\n",
                "print(bicis)\n"
            ]
        },
        {
            "cell_type": "markdown",
            "metadata": {
                "id": "fhuXXgEZRt77"
            },
            "source": [
                "### C2\n",
                "\n",
                "Seleccionar solo las bicicletas del tipo de flota '1' . El nuevo dataframe se ha de llamar `regular_fleet`."
            ]
        },
        {
            "cell_type": "code",
            "execution_count": 13,
            "metadata": {
                "id": "eX7P4rMcRt78"
            },
            "outputs": [
                {
                    "data": {
                        "text/html": [
                            "<div>\n",
                            "<style scoped>\n",
                            "    .dataframe tbody tr th:only-of-type {\n",
                            "        vertical-align: middle;\n",
                            "    }\n",
                            "\n",
                            "    .dataframe tbody tr th {\n",
                            "        vertical-align: top;\n",
                            "    }\n",
                            "\n",
                            "    .dataframe thead th {\n",
                            "        text-align: right;\n",
                            "    }\n",
                            "</style>\n",
                            "<table border=\"1\" class=\"dataframe\">\n",
                            "  <thead>\n",
                            "    <tr style=\"text-align: right;\">\n",
                            "      <th></th>\n",
                            "      <th>idBike</th>\n",
                            "      <th>fleet</th>\n",
                            "      <th>trip_minutes</th>\n",
                            "      <th>geolocation_unlock</th>\n",
                            "      <th>address_unlock</th>\n",
                            "      <th>locktype</th>\n",
                            "      <th>unlocktype</th>\n",
                            "      <th>geolocation_lock</th>\n",
                            "      <th>address_lock</th>\n",
                            "      <th>lock_date</th>\n",
                            "      <th>station_unlock</th>\n",
                            "      <th>unlock_station_name</th>\n",
                            "      <th>station_lock</th>\n",
                            "      <th>lock_station_name</th>\n",
                            "    </tr>\n",
                            "    <tr>\n",
                            "      <th>fecha</th>\n",
                            "      <th></th>\n",
                            "      <th></th>\n",
                            "      <th></th>\n",
                            "      <th></th>\n",
                            "      <th></th>\n",
                            "      <th></th>\n",
                            "      <th></th>\n",
                            "      <th></th>\n",
                            "      <th></th>\n",
                            "      <th></th>\n",
                            "      <th></th>\n",
                            "      <th></th>\n",
                            "      <th></th>\n",
                            "      <th></th>\n",
                            "    </tr>\n",
                            "  </thead>\n",
                            "  <tbody>\n",
                            "    <tr>\n",
                            "      <th>2023-02-01</th>\n",
                            "      <td>7337</td>\n",
                            "      <td>1</td>\n",
                            "      <td>5.52</td>\n",
                            "      <td>{'type': 'Point', 'coordinates': [-3.6956178, ...</td>\n",
                            "      <td>'Calle Jesús nº 1'</td>\n",
                            "      <td>STATION</td>\n",
                            "      <td>STATION</td>\n",
                            "      <td>{'type': 'Point', 'coordinates': [-3.7088337, ...</td>\n",
                            "      <td>'Plaza de la Cebada nº 16 '</td>\n",
                            "      <td>2023-02-01 00:05:41</td>\n",
                            "      <td>31.0</td>\n",
                            "      <td>27 - Huertas</td>\n",
                            "      <td>43.0</td>\n",
                            "      <td>39 - Plaza de la Cebada</td>\n",
                            "    </tr>\n",
                            "    <tr>\n",
                            "      <th>2023-02-01</th>\n",
                            "      <td>5098</td>\n",
                            "      <td>1</td>\n",
                            "      <td>0.32</td>\n",
                            "      <td>{'type': 'Point', 'coordinates': [-3.7022591, ...</td>\n",
                            "      <td>'Glorieta de Embajadores nº 2'</td>\n",
                            "      <td>STATION</td>\n",
                            "      <td>STATION</td>\n",
                            "      <td>{'type': 'Point', 'coordinates': [-3.7022591, ...</td>\n",
                            "      <td>'Glorieta de Embajadores nº 2'</td>\n",
                            "      <td>2023-02-01 00:00:44</td>\n",
                            "      <td>52.0</td>\n",
                            "      <td>48 - Embajadores 2</td>\n",
                            "      <td>52.0</td>\n",
                            "      <td>48 - Embajadores 2</td>\n",
                            "    </tr>\n",
                            "    <tr>\n",
                            "      <th>2023-02-01</th>\n",
                            "      <td>6519</td>\n",
                            "      <td>1</td>\n",
                            "      <td>0.27</td>\n",
                            "      <td>{'type': 'Point', 'coordinates': [-3.6894193, ...</td>\n",
                            "      <td>'Calle Antonio Maura nº 15'</td>\n",
                            "      <td>STATION</td>\n",
                            "      <td>STATION</td>\n",
                            "      <td>{'type': 'Point', 'coordinates': [-3.6894193, ...</td>\n",
                            "      <td>'Calle Antonio Maura nº 15'</td>\n",
                            "      <td>2023-02-01 00:00:52</td>\n",
                            "      <td>69.0</td>\n",
                            "      <td>65 - Antonio Maura</td>\n",
                            "      <td>69.0</td>\n",
                            "      <td>65 - Antonio Maura</td>\n",
                            "    </tr>\n",
                            "    <tr>\n",
                            "      <th>2023-02-01</th>\n",
                            "      <td>2551</td>\n",
                            "      <td>1</td>\n",
                            "      <td>8.58</td>\n",
                            "      <td>{'type': 'Point', 'coordinates': [-3.7022591, ...</td>\n",
                            "      <td>'Glorieta de Embajadores nº 2'</td>\n",
                            "      <td>STATION</td>\n",
                            "      <td>STATION</td>\n",
                            "      <td>{'type': 'Point', 'coordinates': [-3.6991147, ...</td>\n",
                            "      <td>'Calle Atocha nº 54'</td>\n",
                            "      <td>2023-02-01 00:09:28</td>\n",
                            "      <td>52.0</td>\n",
                            "      <td>48 - Embajadores 2</td>\n",
                            "      <td>45.0</td>\n",
                            "      <td>41 - Antón Martín</td>\n",
                            "    </tr>\n",
                            "    <tr>\n",
                            "      <th>2023-02-01</th>\n",
                            "      <td>6519</td>\n",
                            "      <td>1</td>\n",
                            "      <td>0.20</td>\n",
                            "      <td>{'type': 'Point', 'coordinates': [-3.6894193, ...</td>\n",
                            "      <td>'Calle Antonio Maura nº 15'</td>\n",
                            "      <td>STATION</td>\n",
                            "      <td>STATION</td>\n",
                            "      <td>{'type': 'Point', 'coordinates': [-3.6894193, ...</td>\n",
                            "      <td>'Calle Antonio Maura nº 15'</td>\n",
                            "      <td>2023-02-01 00:01:09</td>\n",
                            "      <td>69.0</td>\n",
                            "      <td>65 - Antonio Maura</td>\n",
                            "      <td>69.0</td>\n",
                            "      <td>65 - Antonio Maura</td>\n",
                            "    </tr>\n",
                            "  </tbody>\n",
                            "</table>\n",
                            "</div>"
                        ],
                        "text/plain": [
                            "           idBike fleet  trip_minutes  \\\n",
                            "fecha                                   \n",
                            "2023-02-01   7337     1          5.52   \n",
                            "2023-02-01   5098     1          0.32   \n",
                            "2023-02-01   6519     1          0.27   \n",
                            "2023-02-01   2551     1          8.58   \n",
                            "2023-02-01   6519     1          0.20   \n",
                            "\n",
                            "                                           geolocation_unlock  \\\n",
                            "fecha                                                           \n",
                            "2023-02-01  {'type': 'Point', 'coordinates': [-3.6956178, ...   \n",
                            "2023-02-01  {'type': 'Point', 'coordinates': [-3.7022591, ...   \n",
                            "2023-02-01  {'type': 'Point', 'coordinates': [-3.6894193, ...   \n",
                            "2023-02-01  {'type': 'Point', 'coordinates': [-3.7022591, ...   \n",
                            "2023-02-01  {'type': 'Point', 'coordinates': [-3.6894193, ...   \n",
                            "\n",
                            "                            address_unlock locktype unlocktype  \\\n",
                            "fecha                                                            \n",
                            "2023-02-01              'Calle Jesús nº 1'  STATION    STATION   \n",
                            "2023-02-01  'Glorieta de Embajadores nº 2'  STATION    STATION   \n",
                            "2023-02-01     'Calle Antonio Maura nº 15'  STATION    STATION   \n",
                            "2023-02-01  'Glorieta de Embajadores nº 2'  STATION    STATION   \n",
                            "2023-02-01     'Calle Antonio Maura nº 15'  STATION    STATION   \n",
                            "\n",
                            "                                             geolocation_lock  \\\n",
                            "fecha                                                           \n",
                            "2023-02-01  {'type': 'Point', 'coordinates': [-3.7088337, ...   \n",
                            "2023-02-01  {'type': 'Point', 'coordinates': [-3.7022591, ...   \n",
                            "2023-02-01  {'type': 'Point', 'coordinates': [-3.6894193, ...   \n",
                            "2023-02-01  {'type': 'Point', 'coordinates': [-3.6991147, ...   \n",
                            "2023-02-01  {'type': 'Point', 'coordinates': [-3.6894193, ...   \n",
                            "\n",
                            "                              address_lock           lock_date  \\\n",
                            "fecha                                                            \n",
                            "2023-02-01     'Plaza de la Cebada nº 16 ' 2023-02-01 00:05:41   \n",
                            "2023-02-01  'Glorieta de Embajadores nº 2' 2023-02-01 00:00:44   \n",
                            "2023-02-01     'Calle Antonio Maura nº 15' 2023-02-01 00:00:52   \n",
                            "2023-02-01            'Calle Atocha nº 54' 2023-02-01 00:09:28   \n",
                            "2023-02-01     'Calle Antonio Maura nº 15' 2023-02-01 00:01:09   \n",
                            "\n",
                            "            station_unlock unlock_station_name  station_lock  \\\n",
                            "fecha                                                          \n",
                            "2023-02-01            31.0        27 - Huertas          43.0   \n",
                            "2023-02-01            52.0  48 - Embajadores 2          52.0   \n",
                            "2023-02-01            69.0  65 - Antonio Maura          69.0   \n",
                            "2023-02-01            52.0  48 - Embajadores 2          45.0   \n",
                            "2023-02-01            69.0  65 - Antonio Maura          69.0   \n",
                            "\n",
                            "                  lock_station_name  \n",
                            "fecha                                \n",
                            "2023-02-01  39 - Plaza de la Cebada  \n",
                            "2023-02-01       48 - Embajadores 2  \n",
                            "2023-02-01       65 - Antonio Maura  \n",
                            "2023-02-01        41 - Antón Martín  \n",
                            "2023-02-01       65 - Antonio Maura  "
                        ]
                    },
                    "execution_count": 13,
                    "metadata": {},
                    "output_type": "execute_result"
                }
            ],
            "source": [
                "regular_fleet = usos[usos[\"fleet\"] == \"1\"]\n",
                "\n",
                "# Comprobamos el resultado\n",
                "regular_fleet.head()\n"
            ]
        },
        {
            "cell_type": "markdown",
            "metadata": {
                "id": "dTibdtq7Rt78"
            },
            "source": [
                "### C3\n",
                "\n",
                "Crea una función llamada `day_time` para calcular las horas totales de uso de bicicletas por día del mes.\n",
                "La función recibe un dataframe y devuelve una Serie donde el índice es la fecha y el valor es el número de horas.\n",
                "\n",
                "Prueba la función anterior con el dataframe  `usos`.\n",
                "\n",
                "__Opcional:__ Dibuja un diagrama de barras con el resultado de la función `day_time` sobre el dataframe `usos`. Utiliza el módulo `matplotlib.pyplot`."
            ]
        },
        {
            "cell_type": "code",
            "execution_count": 20,
            "metadata": {
                "id": "6d6wGqeDRt78"
            },
            "outputs": [],
            "source": [
                "\n",
                "import matplotlib.pyplot as plt\n",
                "\n",
                "def day_time(df):\n",
                "    # Agrupar por el índice (que es la fecha) y sumar los minutos\n",
                "    horas_por_dia = df['trip_minutes'].groupby(df.index).sum()\n",
                "\n",
                "    # Convertir minutos a horas\n",
                "    return horas_por_dia\n",
                "\n",
                "import matplotlib.pyplot as plt\n",
                "\n",
                "def graficar_uso_diario(horas_por_dia):\n",
                "    plt.figure(figsize=(12, 6))\n",
                "    horas_por_dia.plot(kind='bar')\n",
                "    plt.title(\"Horas totales de uso por día\")\n",
                "    plt.xlabel(\"Fecha\")\n",
                "    plt.ylabel(\"Horas\")\n",
                "    plt.xticks(rotation=45)\n",
                "    plt.tight_layout()\n",
                "    plt.show()"
            ]
        },
        {
            "cell_type": "code",
            "execution_count": 21,
            "metadata": {},
            "outputs": [
                {
                    "name": "stdout",
                    "output_type": "stream",
                    "text": [
                        "<class 'pandas.core.series.Series'>\n",
                        "Index: 18 entries, 2023-02-01 to 2023-02-18\n",
                        "Series name: trip_minutes\n",
                        "Non-Null Count  Dtype  \n",
                        "--------------  -----  \n",
                        "18 non-null     float64\n",
                        "dtypes: float64(1)\n",
                        "memory usage: 288.0+ bytes\n"
                    ]
                }
            ],
            "source": [
                "\n",
                "dfhoras= day_time(usos)\n",
                "dfhoras.head(30)\n",
                "dfhoras.info()\n"
            ]
        },
        {
            "cell_type": "code",
            "execution_count": 22,
            "metadata": {},
            "outputs": [
                {
                    "data": {
                        "image/png": "[encoded data removed]",
                        "text/plain": [
                            "<Figure size 1200x600 with 1 Axes>"
                        ]
                    },
                    "metadata": {},
                    "output_type": "display_data"
                }
            ],
            "source": [
                "graficar_uso_diario(dfhoras)"
            ]
        },
        {
            "cell_type": "markdown",
            "metadata": {
                "id": "WR8sWYEARt7-"
            },
            "source": [
                "### C4\n",
                "\n",
                "Crea una función llamada `weekday_time` para calcular las horas totales de uso de bicicletas por día de la semana. La función recibe un dataframe y devuelve una Serie donde el índice es el día de la semana (L, M, X, J, V, S, D) y el valor es el número de horas.\n",
                "\n",
                "Prueba la función anterior con el dataframe usos.\n",
                "\n"
            ]
        },
        {
            "cell_type": "code",
            "execution_count": 23,
            "metadata": {
                "id": "Jn12PnM8Rt7-"
            },
            "outputs": [],
            "source": [
                "def weekday_time(df):\n",
                "    # Reutilizamos la función day_time para obtener horas por día (fecha exacta)\n",
                "    horas_por_dia = day_time(df)\n",
                "\n",
                "    # Convertir el índice a datetime (por si no lo es todavía)\n",
                "    horas_por_dia.index = pd.to_datetime(horas_por_dia.index, errors=\"coerce\")\n",
                "    \n",
                "    # Agrupar por día de la semana del índice\n",
                "    horas_por_semana = horas_por_dia.groupby(horas_por_dia.index.dayofweek).sum()\n",
                "\n",
                "    # Mapear números de día a letras\n",
                "    dias = {0:'L', 1:'M', 2:'X', 3:'J', 4:'V', 5:'S', 6:'D'}\n",
                "    horas_por_semana.index = horas_por_semana.index.map(dias)\n",
                "\n",
                "    # Reordenar de L a D\n",
                "    return horas_por_semana.reindex(['L','M','X','J','V','S','D']).fillna(0)"
            ]
        },
        {
            "cell_type": "code",
            "execution_count": 24,
            "metadata": {},
            "outputs": [
                {
                    "data": {
                        "text/plain": [
                            "fecha\n",
                            "L    389669.31\n",
                            "M    337586.44\n",
                            "X    620979.58\n",
                            "J    564758.72\n",
                            "V    537496.44\n",
                            "S    406861.78\n",
                            "D    376053.73\n",
                            "Name: trip_minutes, dtype: float64"
                        ]
                    },
                    "execution_count": 24,
                    "metadata": {},
                    "output_type": "execute_result"
                }
            ],
            "source": [
                "dfweek = weekday_time(usos)\n",
                "dfweek.head(20)"
            ]
        },
        {
            "cell_type": "markdown",
            "metadata": {
                "id": "fZsovUR3Rt7_"
            },
            "source": [
                "### C5\n",
                "\n",
                "Crea una función llamada `total_usage_day` para calcular el número total de usos de bicicletas por día del mes. La función recibe un dataframe y devuelve una Serie donde el índice es la fecha y el valor es el número de usos.\n",
                "\n",
                "Prueba la función anterior con el dataframe usos.\n",
                "\n"
            ]
        },
        {
            "cell_type": "code",
            "execution_count": 25,
            "metadata": {
                "id": "FiFDLZ_eRt7_"
            },
            "outputs": [],
            "source": [
                "\n",
                "def total_usage_day(df):\n",
                "\n",
                "    # Aseguramos que el índice es datetime\n",
                "    df.index = pd.to_datetime(df.index, errors=\"coerce\")\n",
                "\n",
                "    # Contar filas por cada fecha (cada fila = 1 uso)\n",
                "    usos_por_dia = df.groupby(df.index.date).size()\n",
                "\n",
                "    return usos_por_dia"
            ]
        },
        {
            "cell_type": "code",
            "execution_count": 26,
            "metadata": {},
            "outputs": [
                {
                    "data": {
                        "text/plain": [
                            "2023-02-01    11442\n",
                            "2023-02-02    11069\n",
                            "2023-02-03    10166\n",
                            "2023-02-04     8903\n",
                            "2023-02-05     8026\n",
                            "2023-02-06    10118\n",
                            "2023-02-07     8986\n",
                            "2023-02-08    10576\n",
                            "2023-02-09    10814\n",
                            "2023-02-10    10579\n",
                            "2023-02-11     8383\n",
                            "2023-02-12     7801\n",
                            "2023-02-13     9802\n",
                            "2023-02-14    10341\n",
                            "2023-02-15    10766\n",
                            "2023-02-16     9684\n",
                            "2023-02-17    10067\n",
                            "2023-02-18      971\n",
                            "dtype: int64"
                        ]
                    },
                    "execution_count": 26,
                    "metadata": {},
                    "output_type": "execute_result"
                }
            ],
            "source": [
                "total_usage_day(usos)"
            ]
        },
        {
            "cell_type": "markdown",
            "metadata": {
                "id": "E8vBxvOoRp-X"
            },
            "source": [
                "### C6\n",
                "\n",
                "Calcular el total de usos por fecha y estación de desbloqueo. Como la fecha está en el índice y la estación de desbloqueo es una columna, lo mejor es agrupar por la columna `station_unlock` y  un objeto `Grouper` de frecuencia diaria (1D).\n",
                "\n",
                "A continuación, se muestra un ejemplo del funcionamiento de la función Grouper de pandas:\n",
                "```\n",
                ">>> df\n",
                "             ID  Price\n",
                "2000-01-02   0     10\n",
                "2000-01-02   1     20\n",
                "2000-01-09   2     30\n",
                "2000-01-16   3     40\n",
                "\n",
                "# Grouper con frecuencia semanal (1W)\n",
                ">>> df.groupby(pd.Grouper(freq=\"1W\")).mean()\n",
                "               ID  Price\n",
                "\n",
                "2000-01-02    0.5   15.0\n",
                "2000-01-09    2.0   30.0\n",
                "2000-01-16    3.0   40.0\n",
                "```"
            ]
        },
        {
            "cell_type": "code",
            "execution_count": 27,
            "metadata": {
                "id": "1npzyihsRllj"
            },
            "outputs": [
                {
                    "data": {
                        "text/html": [
                            "<div>\n",
                            "<style scoped>\n",
                            "    .dataframe tbody tr th:only-of-type {\n",
                            "        vertical-align: middle;\n",
                            "    }\n",
                            "\n",
                            "    .dataframe tbody tr th {\n",
                            "        vertical-align: top;\n",
                            "    }\n",
                            "\n",
                            "    .dataframe thead th {\n",
                            "        text-align: right;\n",
                            "    }\n",
                            "</style>\n",
                            "<table border=\"1\" class=\"dataframe\">\n",
                            "  <thead>\n",
                            "    <tr style=\"text-align: right;\">\n",
                            "      <th></th>\n",
                            "      <th>fecha</th>\n",
                            "      <th>station_unlock</th>\n",
                            "      <th>usos</th>\n",
                            "    </tr>\n",
                            "  </thead>\n",
                            "  <tbody>\n",
                            "    <tr>\n",
                            "      <th>0</th>\n",
                            "      <td>2023-02-01</td>\n",
                            "      <td>1.0</td>\n",
                            "      <td>31</td>\n",
                            "    </tr>\n",
                            "    <tr>\n",
                            "      <th>1</th>\n",
                            "      <td>2023-02-01</td>\n",
                            "      <td>2.0</td>\n",
                            "      <td>23</td>\n",
                            "    </tr>\n",
                            "    <tr>\n",
                            "      <th>2</th>\n",
                            "      <td>2023-02-01</td>\n",
                            "      <td>3.0</td>\n",
                            "      <td>39</td>\n",
                            "    </tr>\n",
                            "    <tr>\n",
                            "      <th>3</th>\n",
                            "      <td>2023-02-01</td>\n",
                            "      <td>4.0</td>\n",
                            "      <td>27</td>\n",
                            "    </tr>\n",
                            "    <tr>\n",
                            "      <th>4</th>\n",
                            "      <td>2023-02-01</td>\n",
                            "      <td>5.0</td>\n",
                            "      <td>26</td>\n",
                            "    </tr>\n",
                            "    <tr>\n",
                            "      <th>5</th>\n",
                            "      <td>2023-02-01</td>\n",
                            "      <td>6.0</td>\n",
                            "      <td>50</td>\n",
                            "    </tr>\n",
                            "    <tr>\n",
                            "      <th>6</th>\n",
                            "      <td>2023-02-01</td>\n",
                            "      <td>7.0</td>\n",
                            "      <td>57</td>\n",
                            "    </tr>\n",
                            "    <tr>\n",
                            "      <th>7</th>\n",
                            "      <td>2023-02-01</td>\n",
                            "      <td>8.0</td>\n",
                            "      <td>48</td>\n",
                            "    </tr>\n",
                            "    <tr>\n",
                            "      <th>8</th>\n",
                            "      <td>2023-02-01</td>\n",
                            "      <td>9.0</td>\n",
                            "      <td>66</td>\n",
                            "    </tr>\n",
                            "    <tr>\n",
                            "      <th>9</th>\n",
                            "      <td>2023-02-01</td>\n",
                            "      <td>10.0</td>\n",
                            "      <td>33</td>\n",
                            "    </tr>\n",
                            "    <tr>\n",
                            "      <th>10</th>\n",
                            "      <td>2023-02-01</td>\n",
                            "      <td>11.0</td>\n",
                            "      <td>43</td>\n",
                            "    </tr>\n",
                            "    <tr>\n",
                            "      <th>11</th>\n",
                            "      <td>2023-02-01</td>\n",
                            "      <td>12.0</td>\n",
                            "      <td>29</td>\n",
                            "    </tr>\n",
                            "    <tr>\n",
                            "      <th>12</th>\n",
                            "      <td>2023-02-01</td>\n",
                            "      <td>13.0</td>\n",
                            "      <td>53</td>\n",
                            "    </tr>\n",
                            "    <tr>\n",
                            "      <th>13</th>\n",
                            "      <td>2023-02-01</td>\n",
                            "      <td>14.0</td>\n",
                            "      <td>32</td>\n",
                            "    </tr>\n",
                            "    <tr>\n",
                            "      <th>14</th>\n",
                            "      <td>2023-02-01</td>\n",
                            "      <td>15.0</td>\n",
                            "      <td>20</td>\n",
                            "    </tr>\n",
                            "    <tr>\n",
                            "      <th>15</th>\n",
                            "      <td>2023-02-01</td>\n",
                            "      <td>16.0</td>\n",
                            "      <td>30</td>\n",
                            "    </tr>\n",
                            "    <tr>\n",
                            "      <th>16</th>\n",
                            "      <td>2023-02-01</td>\n",
                            "      <td>17.0</td>\n",
                            "      <td>71</td>\n",
                            "    </tr>\n",
                            "    <tr>\n",
                            "      <th>17</th>\n",
                            "      <td>2023-02-01</td>\n",
                            "      <td>18.0</td>\n",
                            "      <td>45</td>\n",
                            "    </tr>\n",
                            "    <tr>\n",
                            "      <th>18</th>\n",
                            "      <td>2023-02-01</td>\n",
                            "      <td>19.0</td>\n",
                            "      <td>66</td>\n",
                            "    </tr>\n",
                            "    <tr>\n",
                            "      <th>19</th>\n",
                            "      <td>2023-02-01</td>\n",
                            "      <td>21.0</td>\n",
                            "      <td>41</td>\n",
                            "    </tr>\n",
                            "  </tbody>\n",
                            "</table>\n",
                            "</div>"
                        ],
                        "text/plain": [
                            "        fecha  station_unlock  usos\n",
                            "0  2023-02-01             1.0    31\n",
                            "1  2023-02-01             2.0    23\n",
                            "2  2023-02-01             3.0    39\n",
                            "3  2023-02-01             4.0    27\n",
                            "4  2023-02-01             5.0    26\n",
                            "5  2023-02-01             6.0    50\n",
                            "6  2023-02-01             7.0    57\n",
                            "7  2023-02-01             8.0    48\n",
                            "8  2023-02-01             9.0    66\n",
                            "9  2023-02-01            10.0    33\n",
                            "10 2023-02-01            11.0    43\n",
                            "11 2023-02-01            12.0    29\n",
                            "12 2023-02-01            13.0    53\n",
                            "13 2023-02-01            14.0    32\n",
                            "14 2023-02-01            15.0    20\n",
                            "15 2023-02-01            16.0    30\n",
                            "16 2023-02-01            17.0    71\n",
                            "17 2023-02-01            18.0    45\n",
                            "18 2023-02-01            19.0    66\n",
                            "19 2023-02-01            21.0    41"
                        ]
                    },
                    "execution_count": 27,
                    "metadata": {},
                    "output_type": "execute_result"
                }
            ],
            "source": [
                "df_agrupado = usos.groupby([pd.Grouper(freq='1D'), 'station_unlock']).size().reset_index(name='usos')\n",
                "df_agrupado.head(20)\n"
            ]
        },
        {
            "cell_type": "markdown",
            "metadata": {
                "id": "qwk5RM_fZSNx"
            },
            "source": [
                "### C7\n",
                "\n",
                "Se quiere averiguar la dirección de las estaciones de desbloqueo que a lo largo del mes han tenido un mayor número de viajes. Crear una función llamada `most_popular_stations` que calcule dicho dato. El argumento de la función es un dataframe y devuelve un conjunto con la dirección de las estaciones.\n",
                "\n"
            ]
        },
        {
            "cell_type": "code",
            "execution_count": 28,
            "metadata": {
                "id": "l9ir9mpDRndL"
            },
            "outputs": [],
            "source": [
                "def most_popular_stations(df, n=1):\n",
                "    # Contamos cuántos viajes se han hecho desde cada dirección\n",
                "    conteo = df['address_unlock'].value_counts()\n",
                "\n",
                "    # Tomamos las n primeras estaciones con más viajes\n",
                "    top_n = conteo.head(n).index\n",
                "\n",
                "    # Las devolvemos como conjunto\n",
                "    return set(top_n)"
            ]
        },
        {
            "cell_type": "code",
            "execution_count": 29,
            "metadata": {},
            "outputs": [
                {
                    "data": {
                        "text/plain": [
                            "{\"'Calle Princesa nº 5'\",\n",
                            " \"'Calle Valencia nº 1'\",\n",
                            " \"'Plaza de la Cebada nº 16 '\"}"
                        ]
                    },
                    "execution_count": 29,
                    "metadata": {},
                    "output_type": "execute_result"
                }
            ],
            "source": [
                "most_popular_stations(usos, 3)"
            ]
        },
        {
            "cell_type": "markdown",
            "metadata": {
                "id": "zgsXCHqhGqTF"
            },
            "source": [
                "### C8\n",
                "\n",
                "Se quiere averiguar el  número de usos de las estaciones de desbloqueo que a lo largo del mes ha tenido un mayor número de viajes. Crear una función llamada `usage_from_most_popular_station` que calcule dicho dato. El argumento de la función es un dataframe y devuelve un entero."
            ]
        },
        {
            "cell_type": "code",
            "execution_count": 30,
            "metadata": {
                "id": "ErFkNzBnG56I"
            },
            "outputs": [],
            "source": [
                "def usage_most_popular_stations_df(df, n):\n",
                "    conteo = df['address_unlock'].value_counts().head(n)\n",
                "    return conteo.reset_index().rename(columns={'index': 'direccion', 'address_unlock': 'viajes'})\n"
            ]
        },
        {
            "cell_type": "code",
            "execution_count": 31,
            "metadata": {},
            "outputs": [
                {
                    "data": {
                        "text/html": [
                            "<div>\n",
                            "<style scoped>\n",
                            "    .dataframe tbody tr th:only-of-type {\n",
                            "        vertical-align: middle;\n",
                            "    }\n",
                            "\n",
                            "    .dataframe tbody tr th {\n",
                            "        vertical-align: top;\n",
                            "    }\n",
                            "\n",
                            "    .dataframe thead th {\n",
                            "        text-align: right;\n",
                            "    }\n",
                            "</style>\n",
                            "<table border=\"1\" class=\"dataframe\">\n",
                            "  <thead>\n",
                            "    <tr style=\"text-align: right;\">\n",
                            "      <th></th>\n",
                            "      <th>viajes</th>\n",
                            "      <th>count</th>\n",
                            "    </tr>\n",
                            "  </thead>\n",
                            "  <tbody>\n",
                            "    <tr>\n",
                            "      <th>0</th>\n",
                            "      <td>'Plaza de la Cebada nº 16 '</td>\n",
                            "      <td>2189</td>\n",
                            "    </tr>\n",
                            "    <tr>\n",
                            "      <th>1</th>\n",
                            "      <td>'Calle Princesa nº 5'</td>\n",
                            "      <td>1922</td>\n",
                            "    </tr>\n",
                            "    <tr>\n",
                            "      <th>2</th>\n",
                            "      <td>'Calle Valencia nº 1'</td>\n",
                            "      <td>1789</td>\n",
                            "    </tr>\n",
                            "  </tbody>\n",
                            "</table>\n",
                            "</div>"
                        ],
                        "text/plain": [
                            "                        viajes  count\n",
                            "0  'Plaza de la Cebada nº 16 '   2189\n",
                            "1        'Calle Princesa nº 5'   1922\n",
                            "2        'Calle Valencia nº 1'   1789"
                        ]
                    },
                    "execution_count": 31,
                    "metadata": {},
                    "output_type": "execute_result"
                }
            ],
            "source": [
                "usage_most_popular_stations_df(usos, 3)"
            ]
        },
        {
            "cell_type": "markdown",
            "metadata": {
                "id": "JfW0nwRk63uY"
            },
            "source": [
                "# ETAPA 2: Construcción del módulo bicimad\n",
                "\n",
                "En esta sección se proporcionan algunas instrucciones para la creación del módulo `bicimad`.\n",
                "La gran mayoría de métodos y funciones pedidas aquí, se han implementado de alguna manera en la sección anterior, por lo que la construcción del módulo y las clases que se pide a continuación es en gran medida una reorganización de código. El módulo `bicimad` debe exportar las clases `UrlEMT` y `BiciMad` descritas a continuación."
            ]
        },
        {
            "cell_type": "markdown",
            "metadata": {
                "id": "Y4Nl4HKTRt7_"
            },
            "source": [
                "\n",
                "\n",
                "## Clase `UrlEMT`\n",
                "\n",
                "Vamos a crear una clase que permita recopilar todos los enlaces que hay en la web de la EMT (https://opendata.emtmadrid.es/Datos-estaticos/Datos-generales-(1)), que se corresponden con datos de uso de bicicletas desde Junio de 2021. Los enlaces que cumplen esta restricción son los que denominaremos a partir de ahora _enlaces válidos_. Estos enlaces contienen la cadena `trips_YY_MM_monthName.csv` donde `YY` representa el año, `MM` representa el mes y `monthName` representa el nombre del mes en inglés.\n",
                "\n",
                "\n",
                "__Requisitos:__\n",
                "\n",
                "* La clase ha de contener dos constantes de clase:\n",
                "```\n",
                "EMT = 'https://opendata.emtmadrid.es/'\n",
                "GENERAL = \"/Datos-estaticos/Datos-generales-(1)\"\n",
                "```\n",
                "\n",
                "* Los objetos de la clase tienen un único atributo privado que representa el conjunto enlaces válidos que se encuentran en el sitio web de la EMT.\n",
                "\n",
                "* Ha de contener al menos los siguientes métodos:\n",
                "\n",
                "    * `__init__`: método constructor sin argumentos.\n",
                "    * `select_valid_urls`: método estático que se encarga de actualizar el atributo de los objetos de la clase. Devuelve un conjunto de enlaces válidos. Si la petición al servidor de la EMT devuelve un código de retorno distinto de 200, la función lanza una excepción de tipo `ConnectionError`.\n",
                "    \n",
                "    * Para extraer los enlaces hay que definir una funcion `get_links` que tome como parámetros un texto HTML y devuelva un conjunto con todos los enlaces.\n",
                "    Esta función debe usar expresiones regulares para encontrar los enlaces.\n",
                "\n",
                "    * `get_url`: método de instancia que acepta los argumentos de tipo entero `month` y `year` y devuelve el string de la URL correspondiente al mes `month` y año `year`.  Si no existe un enlace válido correspondiente al mes `month` y año `year`, se lanzará una excepción de tipo `ValueError`. Se deberá comprobar que el mes y año se corresponden con valores válidos (`month` entre 1 y 12, `year` entre 21 y 23).\n",
                "\n",
                "    * `get_csv`: método de instancia que acepta los argumentos de tipo entero `month` y `year` y devuelve  un fichero en formato CSV correspondiente al mes `month` y año `year`.\n",
                "     El tipo del objeto devuelto es TextIO. La función lanzará una excepción de tipo `ConnectionError` en caso de que falle la petición al servidor de la EMT. En este caso, se podrá aprovechar el código de la función `csv_from_ZIP` implementada en la sección anterior.\n",
                "\n"
            ]
        },
        {
            "cell_type": "code",
            "execution_count": null,
            "metadata": {
                "id": "IXNX5qz7_aNc"
            },
            "outputs": [],
            "source": []
        },
        {
            "cell_type": "markdown",
            "metadata": {
                "id": "qM3xGpt5Rt8A"
            },
            "source": [
                "\n",
                "## Clase `BiciMad`\n",
                "\n",
                "Vamos a crear una clase que represente los datos de uso de las bicicletas eléctricas en un mes concreto, junto con las operaciones necesarias para realizar la limpieza y el análisis básico que hemos realizado anteriormente.\n",
                "\n",
                "__Requisitos:__\n",
                "\n",
                "* Los objetos de la clase tienen  tres atributos privados que representan el mes, el año y los datos de uso extraídos de un fichero csv y representados mediante un dataframe de pandas.\n",
                "\n",
                "* Ha de contener al menos los siguientes métodos:\n",
                "\n",
                "    * `__init__`: método constructor. Acepta los argumentos de tipo entero `month` y `year`. El atributo que representa los datos, se actualiza al construir el objeto mediante el método estático `get_data`.\n",
                "    * `get_data`: método estático que acepta los argumentos de tipo entero `month` y `year` y devuelve un objeto de tipo DataFrame con los datos de uso correspondientes al mes `month` y año  `year`. El índice del dataframe debe ser la fecha en la que tuvo lugar el viaje. Todas las fechas que aparecen en los datos ha de tener tipo `datetime`.  Las únicas columnas que tiene que tener el DataFrames son:\n",
                "\n",
                "    ```\n",
                "    [ 'idBike', 'fleet', 'trip_minutes', 'geolocation_unlock', 'address_unlock', 'unlock_date', 'locktype', 'unlocktype', 'geolocation_lock', 'address_lock', 'lock_date', 'station_unlock',\n",
                "    'unlock_station_name', 'station_lock', 'lock_station_name']\n",
                "    ```\n",
                "    * `data`: método decorado con el decorador `@property` para acceder al atributo que representa los datos de uso. El atributo ha de llamarse igual.\n",
                "    * `__str__`: método especial que permite la representación informal del objeto. Su comportamiento es idéntico al método `__str__` de los objetos de la clase DataFrame.\n",
                "    * `clean`: método de instancia que se encarga de realizar la limpieza  y transformación del dataframe que representa los datos. Modifica el dataframe y no devuelve nada. Realiza las siguientes tareas:\n",
                "        * Borrado de valores NaN. Borrar las filas con todos sus valores NaN.\n",
                "        * Cambiar el tipo de datos de las siguientes columnas del dataframe: `fleet`, `idBike`, `station_lock`, `station_unlock`. Dichas columnas han de ser de tipo `str`.\n",
                "        \n",
                "    En este caso, podrás aprovechar el código ya implementado en la sección anterior.\n",
                "    * `resume`: método de instancia que devuelve un objeto de tipo Series con las siguientes restricciones:\n",
                "        * el índice está formado con las etiquetas:\n",
                "            'year', 'month',                                 'total_uses', 'total_time', 'most_popular_station', 'uses_from_most_popular'\n",
                "        * los valores son: el año, el mes, el total de usos en dicho mes, el total de horas en dicho mes, el conjunto de estaciones de bloqueo con mayor número de usos y el número de usos de dichas estaciones.\n",
                "\n",
                "    En este caso podrás aprovechar el código de las funciones implementadas en la sección de consultas.\n",
                "\n",
                "\n",
                "## Tests\n",
                "\n",
                "Define los tests que creas necesarios para comprobar que las clases funcionan correctamente. Los tests deberán estar en un directorio independiente, dentro del proyecto, pero no en el paquete que se distribuye.\n",
                "\n",
                "## Cuaderno de jupyter\n",
                "\n",
                "Además del proyecto, se deberá incluir un cuaderno jupyter con las consultas de la ETAPA 1. Pero en lugar de utilizar las funciones que se indican en ella, deberá usar la clase `Bicimad`.\n",
                "\n",
                "# Entrega\n",
                "La entrega consistirá en un fichero comprimido `zip` con lo siguiente:\n",
                "- Fichero `whl` con el instalable del paquete generado\n",
                "- Los ficheros del paquete desarrollado, incluyendo los tests.\n",
                "- El cuaderno de jupyter con las consultas C1-C8 de la Etapa 1, usando la clase `BiciMad`\n",
                "\n",
                "# Criterios de la corrección\n",
                "Horas previstas para la realización de la práctica 15 horas.\n",
                "\n",
                "- Correcto funcionamiento de las clases 40%\n",
                "- Buena elección de tests para comprobar las clases 20%\n",
                "- Correcta generación del paquete `whl` 10%\n",
                "- Correcta documentación de las clases, métodos y funciones 10%\n",
                "- Cuaderno jupyter 10%"
            ]
        },
        {
            "cell_type": "code",
            "execution_count": null,
            "metadata": {
                "id": "5xEov0ySL4hZ"
            },
            "outputs": [],
            "source": [
                "from bicimad import BiciMad\n"
            ]
        },
        {
            "cell_type": "markdown",
            "metadata": {
                "id": "1TG8pw83_aNc"
            },
            "source": [
                "------------------"
            ]
        }
    ],
    "metadata": {
        "colab": {
            "provenance": [],
            "toc_visible": true
        },
        "hide_input": false,
        "kernelspec": {
            "display_name": "Python 3 (ipykernel)",
            "language": "python",
            "name": "python3"
        },
        "language_info": {
            "codemirror_mode": {
                "name": "ipython",
                "version": 3
            },
            "file_extension": ".py",
            "mimetype": "text/x-python",
            "name": "python",
            "nbconvert_exporter": "python",
            "pygments_lexer": "ipython3",
            "version": "3.10.11"
        },
        "nbTranslate": {
            "displayLangs": [
                "en",
                "es"
            ],
            "hotkey": "alt-t",
            "langInMainMenu": true,
            "sourceLang": "es",
            "targetLang": "en",
            "useGoogleTranslate": true
        },
        "toc": {
            "base_numbering": 1,
            "nav_menu": {},
            "number_sections": true,
            "sideBar": true,
            "skip_h1_title": false,
            "title_cell": "Table of Contents",
            "title_sidebar": "Contents",
            "toc_cell": false,
            "toc_position": {
                "height": "calc(100% - 180px)",
                "left": "10px",
                "top": "150px",
                "width": "288px"
            },
            "toc_section_display": true,
            "toc_window_display": true
        }
    },
    "nbformat": 4,
    "nbformat_minor": 4
}
